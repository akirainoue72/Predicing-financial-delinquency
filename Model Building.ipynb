{
 "cells": [
  {
   "cell_type": "code",
   "execution_count": 66,
   "id": "9b1a0b81",
   "metadata": {},
   "outputs": [],
   "source": [
    "import pandas as pd\n",
    "import numpy as np\n",
    "from sklearn.model_selection import train_test_split\n",
    "from sklearn.model_selection import cross_val_score\n",
    "from sklearn.linear_model import LogisticRegression\n",
    "from sklearn import metrics\n",
    "from sklearn.ensemble import RandomForestClassifier\n",
    "import matplotlib.pyplot as plt\n",
    "from imblearn.over_sampling import RandomOverSampler\n",
    "import seaborn as sns\n",
    "from sklearn.preprocessing import StandardScaler\n",
    "from sklearn.model_selection import GridSearchCV\n",
    "%matplotlib inline"
   ]
  },
  {
   "cell_type": "code",
   "execution_count": 2,
   "id": "8248dd4f",
   "metadata": {},
   "outputs": [],
   "source": [
    "train=pd.read_csv('data_cleaned2',index_col=0)\n",
    "X=train.drop('SeriousDlqin2yrs',axis=1)\n",
    "y=train['SeriousDlqin2yrs']"
   ]
  },
  {
   "cell_type": "markdown",
   "id": "068ed932",
   "metadata": {},
   "source": [
    "# Logistic Regression"
   ]
  },
  {
   "cell_type": "code",
   "execution_count": 3,
   "id": "746cb2a3",
   "metadata": {},
   "outputs": [
    {
     "data": {
      "text/plain": [
       "0    135646\n",
       "1      9631\n",
       "Name: SeriousDlqin2yrs, dtype: int64"
      ]
     },
     "execution_count": 3,
     "metadata": {},
     "output_type": "execute_result"
    }
   ],
   "source": [
    "y.value_counts()"
   ]
  },
  {
   "cell_type": "code",
   "execution_count": 4,
   "id": "fb04917c",
   "metadata": {},
   "outputs": [
    {
     "data": {
      "image/png": "[encoded data removed]",
      "text/plain": [
       "<Figure size 432x288 with 1 Axes>"
      ]
     },
     "metadata": {},
     "output_type": "display_data"
    }
   ],
   "source": [
    "fig1,ax1=plt.subplots()\n",
    "ax1.pie(y.value_counts(),autopct='%.2f',labels=['Not delinquent','Delinquent'])\n",
    "plt.show()"
   ]
  },
  {
   "cell_type": "code",
   "execution_count": 5,
   "id": "0d639d43",
   "metadata": {},
   "outputs": [
    {
     "data": {
      "text/plain": [
       "0.806397876265228"
      ]
     },
     "execution_count": 5,
     "metadata": {},
     "output_type": "execute_result"
    }
   ],
   "source": [
    "# using original dataset\n",
    "\n",
    "LR=LogisticRegression(random_state=0,max_iter=1000)\n",
    "LR_scores=cross_val_score(LR,X,y,cv=10,scoring='roc_auc')\n",
    "LR_scores.mean()"
   ]
  },
  {
   "cell_type": "markdown",
   "id": "5953bc92",
   "metadata": {},
   "source": [
    "## Strategy 1: Oversampling"
   ]
  },
  {
   "cell_type": "code",
   "execution_count": 6,
   "id": "35403c81",
   "metadata": {},
   "outputs": [],
   "source": [
    "over_sample=RandomOverSampler(sampling_strategy=1)\n",
    "X_res,y_res=over_sample.fit_resample(X,y)"
   ]
  },
  {
   "cell_type": "code",
   "execution_count": 7,
   "id": "3cd9f187",
   "metadata": {},
   "outputs": [
    {
     "data": {
      "text/plain": [
       "1    135646\n",
       "0    135646\n",
       "Name: SeriousDlqin2yrs, dtype: int64"
      ]
     },
     "execution_count": 7,
     "metadata": {},
     "output_type": "execute_result"
    }
   ],
   "source": [
    "y_res.value_counts()"
   ]
  },
  {
   "cell_type": "code",
   "execution_count": 8,
   "id": "142fb49e",
   "metadata": {},
   "outputs": [
    {
     "data": {
      "image/png": "[encoded data removed]",
      "text/plain": [
       "<Figure size 432x288 with 1 Axes>"
      ]
     },
     "metadata": {},
     "output_type": "display_data"
    }
   ],
   "source": [
    "fig1,ax1=plt.subplots()\n",
    "ax1.pie(y_res.value_counts(),autopct='%.2f',labels=['Not delinquent','Delinquent'])\n",
    "plt.show()"
   ]
  },
  {
   "cell_type": "code",
   "execution_count": 9,
   "id": "f04638e2",
   "metadata": {},
   "outputs": [
    {
     "data": {
      "text/plain": [
       "0.8180890283791757"
      ]
     },
     "execution_count": 9,
     "metadata": {},
     "output_type": "execute_result"
    }
   ],
   "source": [
    "# Using balanced dataset\n",
    "\n",
    "LR=LogisticRegression(random_state=0,max_iter=1000)\n",
    "LR_scores=cross_val_score(LR,X_res,y_res,cv=10,scoring='roc_auc')\n",
    "LR_scores.mean()"
   ]
  },
  {
   "cell_type": "markdown",
   "id": "e5926ff4",
   "metadata": {},
   "source": [
    "## Strategy 2: Reduce Multicollinearity"
   ]
  },
  {
   "cell_type": "code",
   "execution_count": 10,
   "id": "ab7f60dc",
   "metadata": {},
   "outputs": [
    {
     "data": {
      "text/html": [
       "<div>\n",
       "<style scoped>\n",
       "    .dataframe tbody tr th:only-of-type {\n",
       "        vertical-align: middle;\n",
       "    }\n",
       "\n",
       "    .dataframe tbody tr th {\n",
       "        vertical-align: top;\n",
       "    }\n",
       "\n",
       "    .dataframe thead th {\n",
       "        text-align: right;\n",
       "    }\n",
       "</style>\n",
       "<table border=\"1\" class=\"dataframe\">\n",
       "  <thead>\n",
       "    <tr style=\"text-align: right;\">\n",
       "      <th></th>\n",
       "      <th>VIF</th>\n",
       "      <th>Column</th>\n",
       "    </tr>\n",
       "  </thead>\n",
       "  <tbody>\n",
       "    <tr>\n",
       "      <th>5</th>\n",
       "      <td>4.419659</td>\n",
       "      <td>NumberOfOpenCreditLinesAndLoans</td>\n",
       "    </tr>\n",
       "    <tr>\n",
       "      <th>1</th>\n",
       "      <td>3.889399</td>\n",
       "      <td>age</td>\n",
       "    </tr>\n",
       "    <tr>\n",
       "      <th>7</th>\n",
       "      <td>2.091542</td>\n",
       "      <td>NumberRealEstateLoansOrLines</td>\n",
       "    </tr>\n",
       "    <tr>\n",
       "      <th>2</th>\n",
       "      <td>1.476989</td>\n",
       "      <td>NumberOfTime30-59DaysPastDueNotWorse</td>\n",
       "    </tr>\n",
       "    <tr>\n",
       "      <th>9</th>\n",
       "      <td>1.473594</td>\n",
       "      <td>NumberOfDependents</td>\n",
       "    </tr>\n",
       "    <tr>\n",
       "      <th>4</th>\n",
       "      <td>1.390787</td>\n",
       "      <td>MonthlyIncome</td>\n",
       "    </tr>\n",
       "    <tr>\n",
       "      <th>8</th>\n",
       "      <td>1.348810</td>\n",
       "      <td>NumberOfTime60-89DaysPastDueNotWorse</td>\n",
       "    </tr>\n",
       "    <tr>\n",
       "      <th>6</th>\n",
       "      <td>1.288309</td>\n",
       "      <td>NumberOfTimes90DaysLate</td>\n",
       "    </tr>\n",
       "    <tr>\n",
       "      <th>3</th>\n",
       "      <td>1.116956</td>\n",
       "      <td>DebtRatio</td>\n",
       "    </tr>\n",
       "    <tr>\n",
       "      <th>0</th>\n",
       "      <td>1.000803</td>\n",
       "      <td>RevolvingUtilizationOfUnsecuredLines</td>\n",
       "    </tr>\n",
       "  </tbody>\n",
       "</table>\n",
       "</div>"
      ],
      "text/plain": [
       "        VIF                                Column\n",
       "5  4.419659       NumberOfOpenCreditLinesAndLoans\n",
       "1  3.889399                                   age\n",
       "7  2.091542          NumberRealEstateLoansOrLines\n",
       "2  1.476989  NumberOfTime30-59DaysPastDueNotWorse\n",
       "9  1.473594                    NumberOfDependents\n",
       "4  1.390787                         MonthlyIncome\n",
       "8  1.348810  NumberOfTime60-89DaysPastDueNotWorse\n",
       "6  1.288309               NumberOfTimes90DaysLate\n",
       "3  1.116956                             DebtRatio\n",
       "0  1.000803  RevolvingUtilizationOfUnsecuredLines"
      ]
     },
     "execution_count": 10,
     "metadata": {},
     "output_type": "execute_result"
    }
   ],
   "source": [
    "import statsmodels.api as sm\n",
    "from statsmodels.stats.outliers_influence import variance_inflation_factor\n",
    "\n",
    "vif_info=pd.DataFrame()\n",
    "vif_info['VIF']=[variance_inflation_factor(X_res.values,i) for i in range(X.shape[1])]\n",
    "vif_info['Column']=X_res.columns\n",
    "vif_info.sort_values('VIF',ascending=False)"
   ]
  },
  {
   "cell_type": "markdown",
   "id": "589452df",
   "metadata": {},
   "source": [
    "There are no VIF's higher than 5 meaning that none of our features have a really high multicollinearity. Therefore we don't have to remove features or modify any features in our model."
   ]
  },
  {
   "cell_type": "code",
   "execution_count": 11,
   "id": "467954a3",
   "metadata": {},
   "outputs": [
    {
     "data": {
      "text/html": [
       "<div>\n",
       "<style scoped>\n",
       "    .dataframe tbody tr th:only-of-type {\n",
       "        vertical-align: middle;\n",
       "    }\n",
       "\n",
       "    .dataframe tbody tr th {\n",
       "        vertical-align: top;\n",
       "    }\n",
       "\n",
       "    .dataframe thead th {\n",
       "        text-align: right;\n",
       "    }\n",
       "</style>\n",
       "<table border=\"1\" class=\"dataframe\">\n",
       "  <thead>\n",
       "    <tr style=\"text-align: right;\">\n",
       "      <th></th>\n",
       "      <th>RevolvingUtilizationOfUnsecuredLines</th>\n",
       "      <th>age</th>\n",
       "      <th>NumberOfTime30-59DaysPastDueNotWorse</th>\n",
       "      <th>DebtRatio</th>\n",
       "      <th>MonthlyIncome</th>\n",
       "      <th>NumberOfOpenCreditLinesAndLoans</th>\n",
       "      <th>NumberOfTimes90DaysLate</th>\n",
       "      <th>NumberRealEstateLoansOrLines</th>\n",
       "      <th>NumberOfTime60-89DaysPastDueNotWorse</th>\n",
       "      <th>NumberOfDependents</th>\n",
       "    </tr>\n",
       "  </thead>\n",
       "  <tbody>\n",
       "    <tr>\n",
       "      <th>RevolvingUtilizationOfUnsecuredLines</th>\n",
       "      <td>1.000000</td>\n",
       "      <td>-0.006921</td>\n",
       "      <td>-0.006154</td>\n",
       "      <td>0.003281</td>\n",
       "      <td>0.002675</td>\n",
       "      <td>-0.008812</td>\n",
       "      <td>-0.002855</td>\n",
       "      <td>0.004165</td>\n",
       "      <td>-0.005521</td>\n",
       "      <td>-0.000682</td>\n",
       "    </tr>\n",
       "    <tr>\n",
       "      <th>age</th>\n",
       "      <td>-0.006921</td>\n",
       "      <td>1.000000</td>\n",
       "      <td>-0.062359</td>\n",
       "      <td>0.059650</td>\n",
       "      <td>0.057456</td>\n",
       "      <td>0.201426</td>\n",
       "      <td>-0.108503</td>\n",
       "      <td>0.093542</td>\n",
       "      <td>-0.080532</td>\n",
       "      <td>-0.184400</td>\n",
       "    </tr>\n",
       "    <tr>\n",
       "      <th>NumberOfTime30-59DaysPastDueNotWorse</th>\n",
       "      <td>-0.006154</td>\n",
       "      <td>-0.062359</td>\n",
       "      <td>1.000000</td>\n",
       "      <td>0.002930</td>\n",
       "      <td>-0.004712</td>\n",
       "      <td>0.096735</td>\n",
       "      <td>0.217294</td>\n",
       "      <td>0.051047</td>\n",
       "      <td>0.326818</td>\n",
       "      <td>0.073598</td>\n",
       "    </tr>\n",
       "    <tr>\n",
       "      <th>DebtRatio</th>\n",
       "      <td>0.003281</td>\n",
       "      <td>0.059650</td>\n",
       "      <td>0.002930</td>\n",
       "      <td>1.000000</td>\n",
       "      <td>0.006829</td>\n",
       "      <td>0.003874</td>\n",
       "      <td>-0.001083</td>\n",
       "      <td>0.033261</td>\n",
       "      <td>0.017573</td>\n",
       "      <td>-0.108060</td>\n",
       "    </tr>\n",
       "    <tr>\n",
       "      <th>MonthlyIncome</th>\n",
       "      <td>0.002675</td>\n",
       "      <td>0.057456</td>\n",
       "      <td>-0.004712</td>\n",
       "      <td>0.006829</td>\n",
       "      <td>1.000000</td>\n",
       "      <td>0.123623</td>\n",
       "      <td>-0.036691</td>\n",
       "      <td>0.166215</td>\n",
       "      <td>-0.021992</td>\n",
       "      <td>0.054826</td>\n",
       "    </tr>\n",
       "    <tr>\n",
       "      <th>NumberOfOpenCreditLinesAndLoans</th>\n",
       "      <td>-0.008812</td>\n",
       "      <td>0.201426</td>\n",
       "      <td>0.096735</td>\n",
       "      <td>0.003874</td>\n",
       "      <td>0.123623</td>\n",
       "      <td>1.000000</td>\n",
       "      <td>-0.165162</td>\n",
       "      <td>0.461362</td>\n",
       "      <td>-0.041978</td>\n",
       "      <td>0.043097</td>\n",
       "    </tr>\n",
       "    <tr>\n",
       "      <th>NumberOfTimes90DaysLate</th>\n",
       "      <td>-0.002855</td>\n",
       "      <td>-0.108503</td>\n",
       "      <td>0.217294</td>\n",
       "      <td>-0.001083</td>\n",
       "      <td>-0.036691</td>\n",
       "      <td>-0.165162</td>\n",
       "      <td>1.000000</td>\n",
       "      <td>-0.095360</td>\n",
       "      <td>0.309824</td>\n",
       "      <td>0.040841</td>\n",
       "    </tr>\n",
       "    <tr>\n",
       "      <th>NumberRealEstateLoansOrLines</th>\n",
       "      <td>0.004165</td>\n",
       "      <td>0.093542</td>\n",
       "      <td>0.051047</td>\n",
       "      <td>0.033261</td>\n",
       "      <td>0.166215</td>\n",
       "      <td>0.461362</td>\n",
       "      <td>-0.095360</td>\n",
       "      <td>1.000000</td>\n",
       "      <td>-0.027619</td>\n",
       "      <td>0.097369</td>\n",
       "    </tr>\n",
       "    <tr>\n",
       "      <th>NumberOfTime60-89DaysPastDueNotWorse</th>\n",
       "      <td>-0.005521</td>\n",
       "      <td>-0.080532</td>\n",
       "      <td>0.326818</td>\n",
       "      <td>0.017573</td>\n",
       "      <td>-0.021992</td>\n",
       "      <td>-0.041978</td>\n",
       "      <td>0.309824</td>\n",
       "      <td>-0.027619</td>\n",
       "      <td>1.000000</td>\n",
       "      <td>0.056370</td>\n",
       "    </tr>\n",
       "    <tr>\n",
       "      <th>NumberOfDependents</th>\n",
       "      <td>-0.000682</td>\n",
       "      <td>-0.184400</td>\n",
       "      <td>0.073598</td>\n",
       "      <td>-0.108060</td>\n",
       "      <td>0.054826</td>\n",
       "      <td>0.043097</td>\n",
       "      <td>0.040841</td>\n",
       "      <td>0.097369</td>\n",
       "      <td>0.056370</td>\n",
       "      <td>1.000000</td>\n",
       "    </tr>\n",
       "  </tbody>\n",
       "</table>\n",
       "</div>"
      ],
      "text/plain": [
       "                                      RevolvingUtilizationOfUnsecuredLines  \\\n",
       "RevolvingUtilizationOfUnsecuredLines                              1.000000   \n",
       "age                                                              -0.006921   \n",
       "NumberOfTime30-59DaysPastDueNotWorse                             -0.006154   \n",
       "DebtRatio                                                         0.003281   \n",
       "MonthlyIncome                                                     0.002675   \n",
       "NumberOfOpenCreditLinesAndLoans                                  -0.008812   \n",
       "NumberOfTimes90DaysLate                                          -0.002855   \n",
       "NumberRealEstateLoansOrLines                                      0.004165   \n",
       "NumberOfTime60-89DaysPastDueNotWorse                             -0.005521   \n",
       "NumberOfDependents                                               -0.000682   \n",
       "\n",
       "                                           age  \\\n",
       "RevolvingUtilizationOfUnsecuredLines -0.006921   \n",
       "age                                   1.000000   \n",
       "NumberOfTime30-59DaysPastDueNotWorse -0.062359   \n",
       "DebtRatio                             0.059650   \n",
       "MonthlyIncome                         0.057456   \n",
       "NumberOfOpenCreditLinesAndLoans       0.201426   \n",
       "NumberOfTimes90DaysLate              -0.108503   \n",
       "NumberRealEstateLoansOrLines          0.093542   \n",
       "NumberOfTime60-89DaysPastDueNotWorse -0.080532   \n",
       "NumberOfDependents                   -0.184400   \n",
       "\n",
       "                                      NumberOfTime30-59DaysPastDueNotWorse  \\\n",
       "RevolvingUtilizationOfUnsecuredLines                             -0.006154   \n",
       "age                                                              -0.062359   \n",
       "NumberOfTime30-59DaysPastDueNotWorse                              1.000000   \n",
       "DebtRatio                                                         0.002930   \n",
       "MonthlyIncome                                                    -0.004712   \n",
       "NumberOfOpenCreditLinesAndLoans                                   0.096735   \n",
       "NumberOfTimes90DaysLate                                           0.217294   \n",
       "NumberRealEstateLoansOrLines                                      0.051047   \n",
       "NumberOfTime60-89DaysPastDueNotWorse                              0.326818   \n",
       "NumberOfDependents                                                0.073598   \n",
       "\n",
       "                                      DebtRatio  MonthlyIncome  \\\n",
       "RevolvingUtilizationOfUnsecuredLines   0.003281       0.002675   \n",
       "age                                    0.059650       0.057456   \n",
       "NumberOfTime30-59DaysPastDueNotWorse   0.002930      -0.004712   \n",
       "DebtRatio                              1.000000       0.006829   \n",
       "MonthlyIncome                          0.006829       1.000000   \n",
       "NumberOfOpenCreditLinesAndLoans        0.003874       0.123623   \n",
       "NumberOfTimes90DaysLate               -0.001083      -0.036691   \n",
       "NumberRealEstateLoansOrLines           0.033261       0.166215   \n",
       "NumberOfTime60-89DaysPastDueNotWorse   0.017573      -0.021992   \n",
       "NumberOfDependents                    -0.108060       0.054826   \n",
       "\n",
       "                                      NumberOfOpenCreditLinesAndLoans  \\\n",
       "RevolvingUtilizationOfUnsecuredLines                        -0.008812   \n",
       "age                                                          0.201426   \n",
       "NumberOfTime30-59DaysPastDueNotWorse                         0.096735   \n",
       "DebtRatio                                                    0.003874   \n",
       "MonthlyIncome                                                0.123623   \n",
       "NumberOfOpenCreditLinesAndLoans                              1.000000   \n",
       "NumberOfTimes90DaysLate                                     -0.165162   \n",
       "NumberRealEstateLoansOrLines                                 0.461362   \n",
       "NumberOfTime60-89DaysPastDueNotWorse                        -0.041978   \n",
       "NumberOfDependents                                           0.043097   \n",
       "\n",
       "                                      NumberOfTimes90DaysLate  \\\n",
       "RevolvingUtilizationOfUnsecuredLines                -0.002855   \n",
       "age                                                 -0.108503   \n",
       "NumberOfTime30-59DaysPastDueNotWorse                 0.217294   \n",
       "DebtRatio                                           -0.001083   \n",
       "MonthlyIncome                                       -0.036691   \n",
       "NumberOfOpenCreditLinesAndLoans                     -0.165162   \n",
       "NumberOfTimes90DaysLate                              1.000000   \n",
       "NumberRealEstateLoansOrLines                        -0.095360   \n",
       "NumberOfTime60-89DaysPastDueNotWorse                 0.309824   \n",
       "NumberOfDependents                                   0.040841   \n",
       "\n",
       "                                      NumberRealEstateLoansOrLines  \\\n",
       "RevolvingUtilizationOfUnsecuredLines                      0.004165   \n",
       "age                                                       0.093542   \n",
       "NumberOfTime30-59DaysPastDueNotWorse                      0.051047   \n",
       "DebtRatio                                                 0.033261   \n",
       "MonthlyIncome                                             0.166215   \n",
       "NumberOfOpenCreditLinesAndLoans                           0.461362   \n",
       "NumberOfTimes90DaysLate                                  -0.095360   \n",
       "NumberRealEstateLoansOrLines                              1.000000   \n",
       "NumberOfTime60-89DaysPastDueNotWorse                     -0.027619   \n",
       "NumberOfDependents                                        0.097369   \n",
       "\n",
       "                                      NumberOfTime60-89DaysPastDueNotWorse  \\\n",
       "RevolvingUtilizationOfUnsecuredLines                             -0.005521   \n",
       "age                                                              -0.080532   \n",
       "NumberOfTime30-59DaysPastDueNotWorse                              0.326818   \n",
       "DebtRatio                                                         0.017573   \n",
       "MonthlyIncome                                                    -0.021992   \n",
       "NumberOfOpenCreditLinesAndLoans                                  -0.041978   \n",
       "NumberOfTimes90DaysLate                                           0.309824   \n",
       "NumberRealEstateLoansOrLines                                     -0.027619   \n",
       "NumberOfTime60-89DaysPastDueNotWorse                              1.000000   \n",
       "NumberOfDependents                                                0.056370   \n",
       "\n",
       "                                      NumberOfDependents  \n",
       "RevolvingUtilizationOfUnsecuredLines           -0.000682  \n",
       "age                                            -0.184400  \n",
       "NumberOfTime30-59DaysPastDueNotWorse            0.073598  \n",
       "DebtRatio                                      -0.108060  \n",
       "MonthlyIncome                                   0.054826  \n",
       "NumberOfOpenCreditLinesAndLoans                 0.043097  \n",
       "NumberOfTimes90DaysLate                         0.040841  \n",
       "NumberRealEstateLoansOrLines                    0.097369  \n",
       "NumberOfTime60-89DaysPastDueNotWorse            0.056370  \n",
       "NumberOfDependents                              1.000000  "
      ]
     },
     "execution_count": 11,
     "metadata": {},
     "output_type": "execute_result"
    }
   ],
   "source": [
    "X_res.corr()"
   ]
  },
  {
   "cell_type": "markdown",
   "id": "5e5a2246",
   "metadata": {},
   "source": [
    "There is a relatively high correlation between a person being 30-59 days late for a loan and a person being 60-89 days or more than 90 days late for a loan (0.32,0.2 correlation respectively)"
   ]
  },
  {
   "cell_type": "code",
   "execution_count": 12,
   "id": "7f575f24",
   "metadata": {},
   "outputs": [
    {
     "data": {
      "text/html": [
       "<div>\n",
       "<style scoped>\n",
       "    .dataframe tbody tr th:only-of-type {\n",
       "        vertical-align: middle;\n",
       "    }\n",
       "\n",
       "    .dataframe tbody tr th {\n",
       "        vertical-align: top;\n",
       "    }\n",
       "\n",
       "    .dataframe thead th {\n",
       "        text-align: right;\n",
       "    }\n",
       "</style>\n",
       "<table border=\"1\" class=\"dataframe\">\n",
       "  <thead>\n",
       "    <tr style=\"text-align: right;\">\n",
       "      <th></th>\n",
       "      <th>SeriousDlqin2yrs</th>\n",
       "      <th>RevolvingUtilizationOfUnsecuredLines</th>\n",
       "      <th>age</th>\n",
       "      <th>NumberOfTime30-59DaysPastDueNotWorse</th>\n",
       "      <th>DebtRatio</th>\n",
       "      <th>MonthlyIncome</th>\n",
       "      <th>NumberOfOpenCreditLinesAndLoans</th>\n",
       "      <th>NumberOfTimes90DaysLate</th>\n",
       "      <th>NumberRealEstateLoansOrLines</th>\n",
       "      <th>NumberOfTime60-89DaysPastDueNotWorse</th>\n",
       "      <th>NumberOfDependents</th>\n",
       "    </tr>\n",
       "  </thead>\n",
       "  <tbody>\n",
       "    <tr>\n",
       "      <th>SeriousDlqin2yrs</th>\n",
       "      <td>1.000000</td>\n",
       "      <td>-0.002292</td>\n",
       "      <td>-0.113480</td>\n",
       "      <td>0.274589</td>\n",
       "      <td>-0.024225</td>\n",
       "      <td>-0.018541</td>\n",
       "      <td>-0.027198</td>\n",
       "      <td>0.315931</td>\n",
       "      <td>-0.006415</td>\n",
       "      <td>0.268507</td>\n",
       "      <td>0.049214</td>\n",
       "    </tr>\n",
       "    <tr>\n",
       "      <th>RevolvingUtilizationOfUnsecuredLines</th>\n",
       "      <td>-0.002292</td>\n",
       "      <td>1.000000</td>\n",
       "      <td>-0.008260</td>\n",
       "      <td>-0.002766</td>\n",
       "      <td>0.004566</td>\n",
       "      <td>0.004136</td>\n",
       "      <td>-0.013260</td>\n",
       "      <td>-0.001588</td>\n",
       "      <td>0.006333</td>\n",
       "      <td>-0.003473</td>\n",
       "      <td>0.004218</td>\n",
       "    </tr>\n",
       "    <tr>\n",
       "      <th>age</th>\n",
       "      <td>-0.113480</td>\n",
       "      <td>-0.008260</td>\n",
       "      <td>1.000000</td>\n",
       "      <td>-0.073488</td>\n",
       "      <td>0.042533</td>\n",
       "      <td>0.029101</td>\n",
       "      <td>0.143944</td>\n",
       "      <td>-0.083408</td>\n",
       "      <td>0.028603</td>\n",
       "      <td>-0.070902</td>\n",
       "      <td>-0.221057</td>\n",
       "    </tr>\n",
       "    <tr>\n",
       "      <th>NumberOfTime30-59DaysPastDueNotWorse</th>\n",
       "      <td>0.274589</td>\n",
       "      <td>-0.002766</td>\n",
       "      <td>-0.073488</td>\n",
       "      <td>1.000000</td>\n",
       "      <td>-0.013336</td>\n",
       "      <td>-0.000654</td>\n",
       "      <td>0.077312</td>\n",
       "      <td>0.217660</td>\n",
       "      <td>0.040762</td>\n",
       "      <td>0.305132</td>\n",
       "      <td>0.066642</td>\n",
       "    </tr>\n",
       "    <tr>\n",
       "      <th>DebtRatio</th>\n",
       "      <td>-0.024225</td>\n",
       "      <td>0.004566</td>\n",
       "      <td>0.042533</td>\n",
       "      <td>-0.013336</td>\n",
       "      <td>1.000000</td>\n",
       "      <td>-0.000805</td>\n",
       "      <td>0.006372</td>\n",
       "      <td>-0.011566</td>\n",
       "      <td>0.068377</td>\n",
       "      <td>-0.005502</td>\n",
       "      <td>-0.098467</td>\n",
       "    </tr>\n",
       "    <tr>\n",
       "      <th>MonthlyIncome</th>\n",
       "      <td>-0.018541</td>\n",
       "      <td>0.004136</td>\n",
       "      <td>0.029101</td>\n",
       "      <td>-0.000654</td>\n",
       "      <td>-0.000805</td>\n",
       "      <td>1.000000</td>\n",
       "      <td>0.091846</td>\n",
       "      <td>-0.019495</td>\n",
       "      <td>0.132920</td>\n",
       "      <td>-0.010949</td>\n",
       "      <td>0.063534</td>\n",
       "    </tr>\n",
       "    <tr>\n",
       "      <th>NumberOfOpenCreditLinesAndLoans</th>\n",
       "      <td>-0.027198</td>\n",
       "      <td>-0.013260</td>\n",
       "      <td>0.143944</td>\n",
       "      <td>0.077312</td>\n",
       "      <td>0.006372</td>\n",
       "      <td>0.091846</td>\n",
       "      <td>1.000000</td>\n",
       "      <td>-0.095672</td>\n",
       "      <td>0.428317</td>\n",
       "      <td>-0.022816</td>\n",
       "      <td>0.071209</td>\n",
       "    </tr>\n",
       "    <tr>\n",
       "      <th>NumberOfTimes90DaysLate</th>\n",
       "      <td>0.315931</td>\n",
       "      <td>-0.001588</td>\n",
       "      <td>-0.083408</td>\n",
       "      <td>0.217660</td>\n",
       "      <td>-0.011566</td>\n",
       "      <td>-0.019495</td>\n",
       "      <td>-0.095672</td>\n",
       "      <td>1.000000</td>\n",
       "      <td>-0.062827</td>\n",
       "      <td>0.294901</td>\n",
       "      <td>0.031856</td>\n",
       "    </tr>\n",
       "    <tr>\n",
       "      <th>NumberRealEstateLoansOrLines</th>\n",
       "      <td>-0.006415</td>\n",
       "      <td>0.006333</td>\n",
       "      <td>0.028603</td>\n",
       "      <td>0.040762</td>\n",
       "      <td>0.068377</td>\n",
       "      <td>0.132920</td>\n",
       "      <td>0.428317</td>\n",
       "      <td>-0.062827</td>\n",
       "      <td>1.000000</td>\n",
       "      <td>-0.020535</td>\n",
       "      <td>0.138995</td>\n",
       "    </tr>\n",
       "    <tr>\n",
       "      <th>NumberOfTime60-89DaysPastDueNotWorse</th>\n",
       "      <td>0.268507</td>\n",
       "      <td>-0.003473</td>\n",
       "      <td>-0.070902</td>\n",
       "      <td>0.305132</td>\n",
       "      <td>-0.005502</td>\n",
       "      <td>-0.010949</td>\n",
       "      <td>-0.022816</td>\n",
       "      <td>0.294901</td>\n",
       "      <td>-0.020535</td>\n",
       "      <td>1.000000</td>\n",
       "      <td>0.037495</td>\n",
       "    </tr>\n",
       "    <tr>\n",
       "      <th>NumberOfDependents</th>\n",
       "      <td>0.049214</td>\n",
       "      <td>0.004218</td>\n",
       "      <td>-0.221057</td>\n",
       "      <td>0.066642</td>\n",
       "      <td>-0.098467</td>\n",
       "      <td>0.063534</td>\n",
       "      <td>0.071209</td>\n",
       "      <td>0.031856</td>\n",
       "      <td>0.138995</td>\n",
       "      <td>0.037495</td>\n",
       "      <td>1.000000</td>\n",
       "    </tr>\n",
       "  </tbody>\n",
       "</table>\n",
       "</div>"
      ],
      "text/plain": [
       "                                      SeriousDlqin2yrs  \\\n",
       "SeriousDlqin2yrs                              1.000000   \n",
       "RevolvingUtilizationOfUnsecuredLines         -0.002292   \n",
       "age                                          -0.113480   \n",
       "NumberOfTime30-59DaysPastDueNotWorse          0.274589   \n",
       "DebtRatio                                    -0.024225   \n",
       "MonthlyIncome                                -0.018541   \n",
       "NumberOfOpenCreditLinesAndLoans              -0.027198   \n",
       "NumberOfTimes90DaysLate                       0.315931   \n",
       "NumberRealEstateLoansOrLines                 -0.006415   \n",
       "NumberOfTime60-89DaysPastDueNotWorse          0.268507   \n",
       "NumberOfDependents                            0.049214   \n",
       "\n",
       "                                      RevolvingUtilizationOfUnsecuredLines  \\\n",
       "SeriousDlqin2yrs                                                 -0.002292   \n",
       "RevolvingUtilizationOfUnsecuredLines                              1.000000   \n",
       "age                                                              -0.008260   \n",
       "NumberOfTime30-59DaysPastDueNotWorse                             -0.002766   \n",
       "DebtRatio                                                         0.004566   \n",
       "MonthlyIncome                                                     0.004136   \n",
       "NumberOfOpenCreditLinesAndLoans                                  -0.013260   \n",
       "NumberOfTimes90DaysLate                                          -0.001588   \n",
       "NumberRealEstateLoansOrLines                                      0.006333   \n",
       "NumberOfTime60-89DaysPastDueNotWorse                             -0.003473   \n",
       "NumberOfDependents                                                0.004218   \n",
       "\n",
       "                                           age  \\\n",
       "SeriousDlqin2yrs                     -0.113480   \n",
       "RevolvingUtilizationOfUnsecuredLines -0.008260   \n",
       "age                                   1.000000   \n",
       "NumberOfTime30-59DaysPastDueNotWorse -0.073488   \n",
       "DebtRatio                             0.042533   \n",
       "MonthlyIncome                         0.029101   \n",
       "NumberOfOpenCreditLinesAndLoans       0.143944   \n",
       "NumberOfTimes90DaysLate              -0.083408   \n",
       "NumberRealEstateLoansOrLines          0.028603   \n",
       "NumberOfTime60-89DaysPastDueNotWorse -0.070902   \n",
       "NumberOfDependents                   -0.221057   \n",
       "\n",
       "                                      NumberOfTime30-59DaysPastDueNotWorse  \\\n",
       "SeriousDlqin2yrs                                                  0.274589   \n",
       "RevolvingUtilizationOfUnsecuredLines                             -0.002766   \n",
       "age                                                              -0.073488   \n",
       "NumberOfTime30-59DaysPastDueNotWorse                              1.000000   \n",
       "DebtRatio                                                        -0.013336   \n",
       "MonthlyIncome                                                    -0.000654   \n",
       "NumberOfOpenCreditLinesAndLoans                                   0.077312   \n",
       "NumberOfTimes90DaysLate                                           0.217660   \n",
       "NumberRealEstateLoansOrLines                                      0.040762   \n",
       "NumberOfTime60-89DaysPastDueNotWorse                              0.305132   \n",
       "NumberOfDependents                                                0.066642   \n",
       "\n",
       "                                      DebtRatio  MonthlyIncome  \\\n",
       "SeriousDlqin2yrs                      -0.024225      -0.018541   \n",
       "RevolvingUtilizationOfUnsecuredLines   0.004566       0.004136   \n",
       "age                                    0.042533       0.029101   \n",
       "NumberOfTime30-59DaysPastDueNotWorse  -0.013336      -0.000654   \n",
       "DebtRatio                              1.000000      -0.000805   \n",
       "MonthlyIncome                         -0.000805       1.000000   \n",
       "NumberOfOpenCreditLinesAndLoans        0.006372       0.091846   \n",
       "NumberOfTimes90DaysLate               -0.011566      -0.019495   \n",
       "NumberRealEstateLoansOrLines           0.068377       0.132920   \n",
       "NumberOfTime60-89DaysPastDueNotWorse  -0.005502      -0.010949   \n",
       "NumberOfDependents                    -0.098467       0.063534   \n",
       "\n",
       "                                      NumberOfOpenCreditLinesAndLoans  \\\n",
       "SeriousDlqin2yrs                                            -0.027198   \n",
       "RevolvingUtilizationOfUnsecuredLines                        -0.013260   \n",
       "age                                                          0.143944   \n",
       "NumberOfTime30-59DaysPastDueNotWorse                         0.077312   \n",
       "DebtRatio                                                    0.006372   \n",
       "MonthlyIncome                                                0.091846   \n",
       "NumberOfOpenCreditLinesAndLoans                              1.000000   \n",
       "NumberOfTimes90DaysLate                                     -0.095672   \n",
       "NumberRealEstateLoansOrLines                                 0.428317   \n",
       "NumberOfTime60-89DaysPastDueNotWorse                        -0.022816   \n",
       "NumberOfDependents                                           0.071209   \n",
       "\n",
       "                                      NumberOfTimes90DaysLate  \\\n",
       "SeriousDlqin2yrs                                     0.315931   \n",
       "RevolvingUtilizationOfUnsecuredLines                -0.001588   \n",
       "age                                                 -0.083408   \n",
       "NumberOfTime30-59DaysPastDueNotWorse                 0.217660   \n",
       "DebtRatio                                           -0.011566   \n",
       "MonthlyIncome                                       -0.019495   \n",
       "NumberOfOpenCreditLinesAndLoans                     -0.095672   \n",
       "NumberOfTimes90DaysLate                              1.000000   \n",
       "NumberRealEstateLoansOrLines                        -0.062827   \n",
       "NumberOfTime60-89DaysPastDueNotWorse                 0.294901   \n",
       "NumberOfDependents                                   0.031856   \n",
       "\n",
       "                                      NumberRealEstateLoansOrLines  \\\n",
       "SeriousDlqin2yrs                                         -0.006415   \n",
       "RevolvingUtilizationOfUnsecuredLines                      0.006333   \n",
       "age                                                       0.028603   \n",
       "NumberOfTime30-59DaysPastDueNotWorse                      0.040762   \n",
       "DebtRatio                                                 0.068377   \n",
       "MonthlyIncome                                             0.132920   \n",
       "NumberOfOpenCreditLinesAndLoans                           0.428317   \n",
       "NumberOfTimes90DaysLate                                  -0.062827   \n",
       "NumberRealEstateLoansOrLines                              1.000000   \n",
       "NumberOfTime60-89DaysPastDueNotWorse                     -0.020535   \n",
       "NumberOfDependents                                        0.138995   \n",
       "\n",
       "                                      NumberOfTime60-89DaysPastDueNotWorse  \\\n",
       "SeriousDlqin2yrs                                                  0.268507   \n",
       "RevolvingUtilizationOfUnsecuredLines                             -0.003473   \n",
       "age                                                              -0.070902   \n",
       "NumberOfTime30-59DaysPastDueNotWorse                              0.305132   \n",
       "DebtRatio                                                        -0.005502   \n",
       "MonthlyIncome                                                    -0.010949   \n",
       "NumberOfOpenCreditLinesAndLoans                                  -0.022816   \n",
       "NumberOfTimes90DaysLate                                           0.294901   \n",
       "NumberRealEstateLoansOrLines                                     -0.020535   \n",
       "NumberOfTime60-89DaysPastDueNotWorse                              1.000000   \n",
       "NumberOfDependents                                                0.037495   \n",
       "\n",
       "                                      NumberOfDependents  \n",
       "SeriousDlqin2yrs                                0.049214  \n",
       "RevolvingUtilizationOfUnsecuredLines            0.004218  \n",
       "age                                            -0.221057  \n",
       "NumberOfTime30-59DaysPastDueNotWorse            0.066642  \n",
       "DebtRatio                                      -0.098467  \n",
       "MonthlyIncome                                   0.063534  \n",
       "NumberOfOpenCreditLinesAndLoans                 0.071209  \n",
       "NumberOfTimes90DaysLate                         0.031856  \n",
       "NumberRealEstateLoansOrLines                    0.138995  \n",
       "NumberOfTime60-89DaysPastDueNotWorse            0.037495  \n",
       "NumberOfDependents                              1.000000  "
      ]
     },
     "execution_count": 12,
     "metadata": {},
     "output_type": "execute_result"
    }
   ],
   "source": [
    "train.corr()"
   ]
  },
  {
   "cell_type": "markdown",
   "id": "1cf407fd",
   "metadata": {},
   "source": [
    "## Strategy 3: Using Standard Scaler"
   ]
  },
  {
   "cell_type": "code",
   "execution_count": 46,
   "id": "1b6008ff",
   "metadata": {
    "scrolled": true
   },
   "outputs": [
    {
     "data": {
      "text/html": [
       "<div>\n",
       "<style scoped>\n",
       "    .dataframe tbody tr th:only-of-type {\n",
       "        vertical-align: middle;\n",
       "    }\n",
       "\n",
       "    .dataframe tbody tr th {\n",
       "        vertical-align: top;\n",
       "    }\n",
       "\n",
       "    .dataframe thead th {\n",
       "        text-align: right;\n",
       "    }\n",
       "</style>\n",
       "<table border=\"1\" class=\"dataframe\">\n",
       "  <thead>\n",
       "    <tr style=\"text-align: right;\">\n",
       "      <th></th>\n",
       "      <th>RevolvingUtilizationOfUnsecuredLines</th>\n",
       "      <th>age</th>\n",
       "      <th>NumberOfTime30-59DaysPastDueNotWorse</th>\n",
       "      <th>DebtRatio</th>\n",
       "      <th>MonthlyIncome</th>\n",
       "      <th>NumberOfOpenCreditLinesAndLoans</th>\n",
       "      <th>NumberOfTimes90DaysLate</th>\n",
       "      <th>NumberRealEstateLoansOrLines</th>\n",
       "      <th>NumberOfTime60-89DaysPastDueNotWorse</th>\n",
       "      <th>NumberOfDependents</th>\n",
       "    </tr>\n",
       "  </thead>\n",
       "  <tbody>\n",
       "    <tr>\n",
       "      <th>1</th>\n",
       "      <td>0.77</td>\n",
       "      <td>45</td>\n",
       "      <td>2</td>\n",
       "      <td>0.80</td>\n",
       "      <td>9120.0</td>\n",
       "      <td>13</td>\n",
       "      <td>0</td>\n",
       "      <td>6</td>\n",
       "      <td>0</td>\n",
       "      <td>2.0</td>\n",
       "    </tr>\n",
       "    <tr>\n",
       "      <th>6185</th>\n",
       "      <td>0.16</td>\n",
       "      <td>45</td>\n",
       "      <td>0</td>\n",
       "      <td>1.19</td>\n",
       "      <td>6650.0</td>\n",
       "      <td>20</td>\n",
       "      <td>0</td>\n",
       "      <td>6</td>\n",
       "      <td>0</td>\n",
       "      <td>2.0</td>\n",
       "    </tr>\n",
       "    <tr>\n",
       "      <th>15458</th>\n",
       "      <td>0.04</td>\n",
       "      <td>45</td>\n",
       "      <td>0</td>\n",
       "      <td>1.01</td>\n",
       "      <td>5000.0</td>\n",
       "      <td>17</td>\n",
       "      <td>0</td>\n",
       "      <td>6</td>\n",
       "      <td>0</td>\n",
       "      <td>3.0</td>\n",
       "    </tr>\n",
       "    <tr>\n",
       "      <th>40153</th>\n",
       "      <td>0.15</td>\n",
       "      <td>45</td>\n",
       "      <td>0</td>\n",
       "      <td>0.59</td>\n",
       "      <td>32366.0</td>\n",
       "      <td>12</td>\n",
       "      <td>0</td>\n",
       "      <td>6</td>\n",
       "      <td>0</td>\n",
       "      <td>3.0</td>\n",
       "    </tr>\n",
       "    <tr>\n",
       "      <th>57864</th>\n",
       "      <td>0.22</td>\n",
       "      <td>45</td>\n",
       "      <td>0</td>\n",
       "      <td>0.50</td>\n",
       "      <td>13800.0</td>\n",
       "      <td>14</td>\n",
       "      <td>0</td>\n",
       "      <td>6</td>\n",
       "      <td>0</td>\n",
       "      <td>0.0</td>\n",
       "    </tr>\n",
       "  </tbody>\n",
       "</table>\n",
       "</div>"
      ],
      "text/plain": [
       "       RevolvingUtilizationOfUnsecuredLines  age  \\\n",
       "1                                      0.77   45   \n",
       "6185                                   0.16   45   \n",
       "15458                                  0.04   45   \n",
       "40153                                  0.15   45   \n",
       "57864                                  0.22   45   \n",
       "\n",
       "       NumberOfTime30-59DaysPastDueNotWorse  DebtRatio  MonthlyIncome  \\\n",
       "1                                         2       0.80         9120.0   \n",
       "6185                                      0       1.19         6650.0   \n",
       "15458                                     0       1.01         5000.0   \n",
       "40153                                     0       0.59        32366.0   \n",
       "57864                                     0       0.50        13800.0   \n",
       "\n",
       "       NumberOfOpenCreditLinesAndLoans  NumberOfTimes90DaysLate  \\\n",
       "1                                   13                        0   \n",
       "6185                                20                        0   \n",
       "15458                               17                        0   \n",
       "40153                               12                        0   \n",
       "57864                               14                        0   \n",
       "\n",
       "       NumberRealEstateLoansOrLines  NumberOfTime60-89DaysPastDueNotWorse  \\\n",
       "1                                 6                                     0   \n",
       "6185                              6                                     0   \n",
       "15458                             6                                     0   \n",
       "40153                             6                                     0   \n",
       "57864                             6                                     0   \n",
       "\n",
       "       NumberOfDependents  \n",
       "1                     2.0  \n",
       "6185                  2.0  \n",
       "15458                 3.0  \n",
       "40153                 3.0  \n",
       "57864                 0.0  "
      ]
     },
     "execution_count": 46,
     "metadata": {},
     "output_type": "execute_result"
    }
   ],
   "source": [
    "X.head()"
   ]
  },
  {
   "cell_type": "markdown",
   "id": "5cae1ffb",
   "metadata": {},
   "source": [
    "There is a problem with scale so a Standard Scaler might improve our model. "
   ]
  },
  {
   "cell_type": "code",
   "execution_count": 51,
   "id": "967c71f9",
   "metadata": {},
   "outputs": [],
   "source": [
    "ss=StandardScaler()\n",
    "X_scaled = ss.fit_transform(X)\n",
    "X_res_scaled=ss.fit_transform(X_res)"
   ]
  },
  {
   "cell_type": "code",
   "execution_count": 54,
   "id": "7ef57a4a",
   "metadata": {},
   "outputs": [
    {
     "data": {
      "text/plain": [
       "0.8164001062351472"
      ]
     },
     "execution_count": 54,
     "metadata": {},
     "output_type": "execute_result"
    }
   ],
   "source": [
    "LR=LogisticRegression(random_state=0,max_iter=1000)\n",
    "LR_scores=cross_val_score(LR,X_scaled,y,cv=10,scoring='roc_auc')\n",
    "LR_scores.mean()"
   ]
  },
  {
   "cell_type": "markdown",
   "id": "1efebc3b",
   "metadata": {},
   "source": [
    "## Using Balanced Data"
   ]
  },
  {
   "cell_type": "code",
   "execution_count": 55,
   "id": "1b867d6f",
   "metadata": {},
   "outputs": [
    {
     "data": {
      "text/plain": [
       "0.8167488224386407"
      ]
     },
     "execution_count": 55,
     "metadata": {},
     "output_type": "execute_result"
    }
   ],
   "source": [
    "LR=LogisticRegression(random_state=0,max_iter=1000)\n",
    "LR_scores=cross_val_score(LR,X_res_scaled,y_res,cv=10,scoring='roc_auc')\n",
    "LR_scores.mean()"
   ]
  },
  {
   "cell_type": "markdown",
   "id": "f1b04c00",
   "metadata": {},
   "source": [
    "## Remove 'NumberOfTime30-59DaysPastDueNotWorse' and 'NumberOfTime60-89DaysPastDueNotWorse'"
   ]
  },
  {
   "cell_type": "markdown",
   "id": "3f96ba46",
   "metadata": {},
   "source": [
    "## 1. Using original data"
   ]
  },
  {
   "cell_type": "code",
   "execution_count": 13,
   "id": "5c9947ea",
   "metadata": {},
   "outputs": [
    {
     "data": {
      "text/plain": [
       "(145277, 8)"
      ]
     },
     "execution_count": 13,
     "metadata": {},
     "output_type": "execute_result"
    }
   ],
   "source": [
    "X_new=X.drop(['NumberOfTime30-59DaysPastDueNotWorse','NumberOfTime60-89DaysPastDueNotWorse'],axis=1)\n",
    "X_new.shape"
   ]
  },
  {
   "cell_type": "code",
   "execution_count": 14,
   "id": "d5f515b2",
   "metadata": {},
   "outputs": [
    {
     "data": {
      "text/plain": [
       "0.7383993209720157"
      ]
     },
     "execution_count": 14,
     "metadata": {},
     "output_type": "execute_result"
    }
   ],
   "source": [
    "LR=LogisticRegression(random_state=0,max_iter=1000)\n",
    "LR_scores=cross_val_score(LR,X_new,y,cv=10,scoring='roc_auc')\n",
    "LR_scores.mean()"
   ]
  },
  {
   "cell_type": "markdown",
   "id": "ca62b70e",
   "metadata": {},
   "source": [
    "## 2. Using resampled data"
   ]
  },
  {
   "cell_type": "code",
   "execution_count": 15,
   "id": "3767d147",
   "metadata": {},
   "outputs": [
    {
     "data": {
      "text/plain": [
       "(271292, 8)"
      ]
     },
     "execution_count": 15,
     "metadata": {},
     "output_type": "execute_result"
    }
   ],
   "source": [
    "X_res_new=X_res.drop(['NumberOfTime30-59DaysPastDueNotWorse','NumberOfTime60-89DaysPastDueNotWorse'],axis=1)\n",
    "X_res_new.shape"
   ]
  },
  {
   "cell_type": "code",
   "execution_count": 16,
   "id": "b1fcf2a0",
   "metadata": {},
   "outputs": [
    {
     "data": {
      "text/plain": [
       "0.7395119699422449"
      ]
     },
     "execution_count": 16,
     "metadata": {},
     "output_type": "execute_result"
    }
   ],
   "source": [
    "LR=LogisticRegression(random_state=0,max_iter=1000)\n",
    "LR_scores=cross_val_score(LR,X_res_new,y_res,cv=10,scoring='roc_auc')\n",
    "LR_scores.mean()"
   ]
  },
  {
   "cell_type": "markdown",
   "id": "729ebfb5",
   "metadata": {},
   "source": [
    "## Adding 'NumberOfTime30-59DaysPastDueNotWorse', 'NumberOfTime60 89DaysPastDueNotWorse' and 'NumberOfTimes90DaysLate' to one column"
   ]
  },
  {
   "cell_type": "markdown",
   "id": "c758b024",
   "metadata": {},
   "source": [
    "## 1. Using original data"
   ]
  },
  {
   "cell_type": "code",
   "execution_count": 17,
   "id": "07c5b52c",
   "metadata": {},
   "outputs": [],
   "source": [
    "X_modified=X.copy()"
   ]
  },
  {
   "cell_type": "code",
   "execution_count": 18,
   "id": "0c3d31b2",
   "metadata": {},
   "outputs": [
    {
     "data": {
      "text/plain": [
       "Index(['RevolvingUtilizationOfUnsecuredLines', 'age',\n",
       "       'NumberOfTime30-59DaysPastDueNotWorse', 'DebtRatio', 'MonthlyIncome',\n",
       "       'NumberOfOpenCreditLinesAndLoans', 'NumberOfTimes90DaysLate',\n",
       "       'NumberRealEstateLoansOrLines', 'NumberOfTime60-89DaysPastDueNotWorse',\n",
       "       'NumberOfDependents'],\n",
       "      dtype='object')"
      ]
     },
     "execution_count": 18,
     "metadata": {},
     "output_type": "execute_result"
    }
   ],
   "source": [
    "X_modified.columns"
   ]
  },
  {
   "cell_type": "code",
   "execution_count": 21,
   "id": "71b38982",
   "metadata": {},
   "outputs": [],
   "source": [
    "X_modified['NumberofTimeOver30DayLate']=X_modified['NumberOfTime30-59DaysPastDueNotWorse']+ X_modified['NumberOfTime60-89DaysPastDueNotWorse']\n",
    "+ X_modified['NumberOfTimes90DaysLate']\n",
    "X_modified=X_modified.drop(['NumberOfTime30-59DaysPastDueNotWorse','NumberOfTime60-89DaysPastDueNotWorse','NumberOfTimes90DaysLate'],axis=1)"
   ]
  },
  {
   "cell_type": "code",
   "execution_count": 23,
   "id": "8d0d95ad",
   "metadata": {},
   "outputs": [
    {
     "data": {
      "text/plain": [
       "0.771429931996767"
      ]
     },
     "execution_count": 23,
     "metadata": {},
     "output_type": "execute_result"
    }
   ],
   "source": [
    "LR=LogisticRegression(random_state=0,max_iter=1000)\n",
    "LR_scores=cross_val_score(LR,X_modified,y,cv=10,scoring='roc_auc')\n",
    "LR_scores.mean()"
   ]
  },
  {
   "cell_type": "markdown",
   "id": "3bc5f6c7",
   "metadata": {},
   "source": [
    "## Using resampled data"
   ]
  },
  {
   "cell_type": "code",
   "execution_count": 24,
   "id": "416bbd97",
   "metadata": {},
   "outputs": [],
   "source": [
    "X_res_modified=X_res.copy()"
   ]
  },
  {
   "cell_type": "code",
   "execution_count": 26,
   "id": "71f57a8c",
   "metadata": {},
   "outputs": [],
   "source": [
    "X_res_modified['NumberofTimeOver30DayLate']=X_res_modified['NumberOfTime30-59DaysPastDueNotWorse']+ X_res_modified['NumberOfTime60-89DaysPastDueNotWorse']\n",
    "+ X_res_modified['NumberOfTimes90DaysLate']\n",
    "X_res_modified=X_res_modified.drop(['NumberOfTime30-59DaysPastDueNotWorse','NumberOfTime60-89DaysPastDueNotWorse','NumberOfTimes90DaysLate'],axis=1)"
   ]
  },
  {
   "cell_type": "code",
   "execution_count": 27,
   "id": "954df9f1",
   "metadata": {},
   "outputs": [
    {
     "data": {
      "text/plain": [
       "0.7756956812483637"
      ]
     },
     "execution_count": 27,
     "metadata": {},
     "output_type": "execute_result"
    }
   ],
   "source": [
    "LR=LogisticRegression(random_state=0,max_iter=1000)\n",
    "LR_scores=cross_val_score(LR,X_res_modified,y_res,cv=10,scoring='roc_auc')\n",
    "LR_scores.mean()"
   ]
  },
  {
   "cell_type": "markdown",
   "id": "d46483d7",
   "metadata": {},
   "source": [
    "## Create new feature from subtracting NumberOfTime30-59DaysPastDueNotWorse by NumberOfTime60-89DaysPastDueNotWorse"
   ]
  },
  {
   "cell_type": "code",
   "execution_count": 28,
   "id": "07d5c2da",
   "metadata": {},
   "outputs": [
    {
     "data": {
      "text/html": [
       "<div>\n",
       "<style scoped>\n",
       "    .dataframe tbody tr th:only-of-type {\n",
       "        vertical-align: middle;\n",
       "    }\n",
       "\n",
       "    .dataframe tbody tr th {\n",
       "        vertical-align: top;\n",
       "    }\n",
       "\n",
       "    .dataframe thead th {\n",
       "        text-align: right;\n",
       "    }\n",
       "</style>\n",
       "<table border=\"1\" class=\"dataframe\">\n",
       "  <thead>\n",
       "    <tr style=\"text-align: right;\">\n",
       "      <th></th>\n",
       "      <th>SeriousDlqin2yrs</th>\n",
       "      <th>RevolvingUtilizationOfUnsecuredLines</th>\n",
       "      <th>age</th>\n",
       "      <th>NumberOfTime30-59DaysPastDueNotWorse</th>\n",
       "      <th>DebtRatio</th>\n",
       "      <th>MonthlyIncome</th>\n",
       "      <th>NumberOfOpenCreditLinesAndLoans</th>\n",
       "      <th>NumberOfTimes90DaysLate</th>\n",
       "      <th>NumberRealEstateLoansOrLines</th>\n",
       "      <th>NumberOfTime60-89DaysPastDueNotWorse</th>\n",
       "      <th>NumberOfDependents</th>\n",
       "    </tr>\n",
       "  </thead>\n",
       "  <tbody>\n",
       "    <tr>\n",
       "      <th>SeriousDlqin2yrs</th>\n",
       "      <td>1.000000</td>\n",
       "      <td>-0.002292</td>\n",
       "      <td>-0.113480</td>\n",
       "      <td>0.274589</td>\n",
       "      <td>-0.024225</td>\n",
       "      <td>-0.018541</td>\n",
       "      <td>-0.027198</td>\n",
       "      <td>0.315931</td>\n",
       "      <td>-0.006415</td>\n",
       "      <td>0.268507</td>\n",
       "      <td>0.049214</td>\n",
       "    </tr>\n",
       "    <tr>\n",
       "      <th>RevolvingUtilizationOfUnsecuredLines</th>\n",
       "      <td>-0.002292</td>\n",
       "      <td>1.000000</td>\n",
       "      <td>-0.008260</td>\n",
       "      <td>-0.002766</td>\n",
       "      <td>0.004566</td>\n",
       "      <td>0.004136</td>\n",
       "      <td>-0.013260</td>\n",
       "      <td>-0.001588</td>\n",
       "      <td>0.006333</td>\n",
       "      <td>-0.003473</td>\n",
       "      <td>0.004218</td>\n",
       "    </tr>\n",
       "    <tr>\n",
       "      <th>age</th>\n",
       "      <td>-0.113480</td>\n",
       "      <td>-0.008260</td>\n",
       "      <td>1.000000</td>\n",
       "      <td>-0.073488</td>\n",
       "      <td>0.042533</td>\n",
       "      <td>0.029101</td>\n",
       "      <td>0.143944</td>\n",
       "      <td>-0.083408</td>\n",
       "      <td>0.028603</td>\n",
       "      <td>-0.070902</td>\n",
       "      <td>-0.221057</td>\n",
       "    </tr>\n",
       "    <tr>\n",
       "      <th>NumberOfTime30-59DaysPastDueNotWorse</th>\n",
       "      <td>0.274589</td>\n",
       "      <td>-0.002766</td>\n",
       "      <td>-0.073488</td>\n",
       "      <td>1.000000</td>\n",
       "      <td>-0.013336</td>\n",
       "      <td>-0.000654</td>\n",
       "      <td>0.077312</td>\n",
       "      <td>0.217660</td>\n",
       "      <td>0.040762</td>\n",
       "      <td>0.305132</td>\n",
       "      <td>0.066642</td>\n",
       "    </tr>\n",
       "    <tr>\n",
       "      <th>DebtRatio</th>\n",
       "      <td>-0.024225</td>\n",
       "      <td>0.004566</td>\n",
       "      <td>0.042533</td>\n",
       "      <td>-0.013336</td>\n",
       "      <td>1.000000</td>\n",
       "      <td>-0.000805</td>\n",
       "      <td>0.006372</td>\n",
       "      <td>-0.011566</td>\n",
       "      <td>0.068377</td>\n",
       "      <td>-0.005502</td>\n",
       "      <td>-0.098467</td>\n",
       "    </tr>\n",
       "    <tr>\n",
       "      <th>MonthlyIncome</th>\n",
       "      <td>-0.018541</td>\n",
       "      <td>0.004136</td>\n",
       "      <td>0.029101</td>\n",
       "      <td>-0.000654</td>\n",
       "      <td>-0.000805</td>\n",
       "      <td>1.000000</td>\n",
       "      <td>0.091846</td>\n",
       "      <td>-0.019495</td>\n",
       "      <td>0.132920</td>\n",
       "      <td>-0.010949</td>\n",
       "      <td>0.063534</td>\n",
       "    </tr>\n",
       "    <tr>\n",
       "      <th>NumberOfOpenCreditLinesAndLoans</th>\n",
       "      <td>-0.027198</td>\n",
       "      <td>-0.013260</td>\n",
       "      <td>0.143944</td>\n",
       "      <td>0.077312</td>\n",
       "      <td>0.006372</td>\n",
       "      <td>0.091846</td>\n",
       "      <td>1.000000</td>\n",
       "      <td>-0.095672</td>\n",
       "      <td>0.428317</td>\n",
       "      <td>-0.022816</td>\n",
       "      <td>0.071209</td>\n",
       "    </tr>\n",
       "    <tr>\n",
       "      <th>NumberOfTimes90DaysLate</th>\n",
       "      <td>0.315931</td>\n",
       "      <td>-0.001588</td>\n",
       "      <td>-0.083408</td>\n",
       "      <td>0.217660</td>\n",
       "      <td>-0.011566</td>\n",
       "      <td>-0.019495</td>\n",
       "      <td>-0.095672</td>\n",
       "      <td>1.000000</td>\n",
       "      <td>-0.062827</td>\n",
       "      <td>0.294901</td>\n",
       "      <td>0.031856</td>\n",
       "    </tr>\n",
       "    <tr>\n",
       "      <th>NumberRealEstateLoansOrLines</th>\n",
       "      <td>-0.006415</td>\n",
       "      <td>0.006333</td>\n",
       "      <td>0.028603</td>\n",
       "      <td>0.040762</td>\n",
       "      <td>0.068377</td>\n",
       "      <td>0.132920</td>\n",
       "      <td>0.428317</td>\n",
       "      <td>-0.062827</td>\n",
       "      <td>1.000000</td>\n",
       "      <td>-0.020535</td>\n",
       "      <td>0.138995</td>\n",
       "    </tr>\n",
       "    <tr>\n",
       "      <th>NumberOfTime60-89DaysPastDueNotWorse</th>\n",
       "      <td>0.268507</td>\n",
       "      <td>-0.003473</td>\n",
       "      <td>-0.070902</td>\n",
       "      <td>0.305132</td>\n",
       "      <td>-0.005502</td>\n",
       "      <td>-0.010949</td>\n",
       "      <td>-0.022816</td>\n",
       "      <td>0.294901</td>\n",
       "      <td>-0.020535</td>\n",
       "      <td>1.000000</td>\n",
       "      <td>0.037495</td>\n",
       "    </tr>\n",
       "    <tr>\n",
       "      <th>NumberOfDependents</th>\n",
       "      <td>0.049214</td>\n",
       "      <td>0.004218</td>\n",
       "      <td>-0.221057</td>\n",
       "      <td>0.066642</td>\n",
       "      <td>-0.098467</td>\n",
       "      <td>0.063534</td>\n",
       "      <td>0.071209</td>\n",
       "      <td>0.031856</td>\n",
       "      <td>0.138995</td>\n",
       "      <td>0.037495</td>\n",
       "      <td>1.000000</td>\n",
       "    </tr>\n",
       "  </tbody>\n",
       "</table>\n",
       "</div>"
      ],
      "text/plain": [
       "                                      SeriousDlqin2yrs  \\\n",
       "SeriousDlqin2yrs                              1.000000   \n",
       "RevolvingUtilizationOfUnsecuredLines         -0.002292   \n",
       "age                                          -0.113480   \n",
       "NumberOfTime30-59DaysPastDueNotWorse          0.274589   \n",
       "DebtRatio                                    -0.024225   \n",
       "MonthlyIncome                                -0.018541   \n",
       "NumberOfOpenCreditLinesAndLoans              -0.027198   \n",
       "NumberOfTimes90DaysLate                       0.315931   \n",
       "NumberRealEstateLoansOrLines                 -0.006415   \n",
       "NumberOfTime60-89DaysPastDueNotWorse          0.268507   \n",
       "NumberOfDependents                            0.049214   \n",
       "\n",
       "                                      RevolvingUtilizationOfUnsecuredLines  \\\n",
       "SeriousDlqin2yrs                                                 -0.002292   \n",
       "RevolvingUtilizationOfUnsecuredLines                              1.000000   \n",
       "age                                                              -0.008260   \n",
       "NumberOfTime30-59DaysPastDueNotWorse                             -0.002766   \n",
       "DebtRatio                                                         0.004566   \n",
       "MonthlyIncome                                                     0.004136   \n",
       "NumberOfOpenCreditLinesAndLoans                                  -0.013260   \n",
       "NumberOfTimes90DaysLate                                          -0.001588   \n",
       "NumberRealEstateLoansOrLines                                      0.006333   \n",
       "NumberOfTime60-89DaysPastDueNotWorse                             -0.003473   \n",
       "NumberOfDependents                                                0.004218   \n",
       "\n",
       "                                           age  \\\n",
       "SeriousDlqin2yrs                     -0.113480   \n",
       "RevolvingUtilizationOfUnsecuredLines -0.008260   \n",
       "age                                   1.000000   \n",
       "NumberOfTime30-59DaysPastDueNotWorse -0.073488   \n",
       "DebtRatio                             0.042533   \n",
       "MonthlyIncome                         0.029101   \n",
       "NumberOfOpenCreditLinesAndLoans       0.143944   \n",
       "NumberOfTimes90DaysLate              -0.083408   \n",
       "NumberRealEstateLoansOrLines          0.028603   \n",
       "NumberOfTime60-89DaysPastDueNotWorse -0.070902   \n",
       "NumberOfDependents                   -0.221057   \n",
       "\n",
       "                                      NumberOfTime30-59DaysPastDueNotWorse  \\\n",
       "SeriousDlqin2yrs                                                  0.274589   \n",
       "RevolvingUtilizationOfUnsecuredLines                             -0.002766   \n",
       "age                                                              -0.073488   \n",
       "NumberOfTime30-59DaysPastDueNotWorse                              1.000000   \n",
       "DebtRatio                                                        -0.013336   \n",
       "MonthlyIncome                                                    -0.000654   \n",
       "NumberOfOpenCreditLinesAndLoans                                   0.077312   \n",
       "NumberOfTimes90DaysLate                                           0.217660   \n",
       "NumberRealEstateLoansOrLines                                      0.040762   \n",
       "NumberOfTime60-89DaysPastDueNotWorse                              0.305132   \n",
       "NumberOfDependents                                                0.066642   \n",
       "\n",
       "                                      DebtRatio  MonthlyIncome  \\\n",
       "SeriousDlqin2yrs                      -0.024225      -0.018541   \n",
       "RevolvingUtilizationOfUnsecuredLines   0.004566       0.004136   \n",
       "age                                    0.042533       0.029101   \n",
       "NumberOfTime30-59DaysPastDueNotWorse  -0.013336      -0.000654   \n",
       "DebtRatio                              1.000000      -0.000805   \n",
       "MonthlyIncome                         -0.000805       1.000000   \n",
       "NumberOfOpenCreditLinesAndLoans        0.006372       0.091846   \n",
       "NumberOfTimes90DaysLate               -0.011566      -0.019495   \n",
       "NumberRealEstateLoansOrLines           0.068377       0.132920   \n",
       "NumberOfTime60-89DaysPastDueNotWorse  -0.005502      -0.010949   \n",
       "NumberOfDependents                    -0.098467       0.063534   \n",
       "\n",
       "                                      NumberOfOpenCreditLinesAndLoans  \\\n",
       "SeriousDlqin2yrs                                            -0.027198   \n",
       "RevolvingUtilizationOfUnsecuredLines                        -0.013260   \n",
       "age                                                          0.143944   \n",
       "NumberOfTime30-59DaysPastDueNotWorse                         0.077312   \n",
       "DebtRatio                                                    0.006372   \n",
       "MonthlyIncome                                                0.091846   \n",
       "NumberOfOpenCreditLinesAndLoans                              1.000000   \n",
       "NumberOfTimes90DaysLate                                     -0.095672   \n",
       "NumberRealEstateLoansOrLines                                 0.428317   \n",
       "NumberOfTime60-89DaysPastDueNotWorse                        -0.022816   \n",
       "NumberOfDependents                                           0.071209   \n",
       "\n",
       "                                      NumberOfTimes90DaysLate  \\\n",
       "SeriousDlqin2yrs                                     0.315931   \n",
       "RevolvingUtilizationOfUnsecuredLines                -0.001588   \n",
       "age                                                 -0.083408   \n",
       "NumberOfTime30-59DaysPastDueNotWorse                 0.217660   \n",
       "DebtRatio                                           -0.011566   \n",
       "MonthlyIncome                                       -0.019495   \n",
       "NumberOfOpenCreditLinesAndLoans                     -0.095672   \n",
       "NumberOfTimes90DaysLate                              1.000000   \n",
       "NumberRealEstateLoansOrLines                        -0.062827   \n",
       "NumberOfTime60-89DaysPastDueNotWorse                 0.294901   \n",
       "NumberOfDependents                                   0.031856   \n",
       "\n",
       "                                      NumberRealEstateLoansOrLines  \\\n",
       "SeriousDlqin2yrs                                         -0.006415   \n",
       "RevolvingUtilizationOfUnsecuredLines                      0.006333   \n",
       "age                                                       0.028603   \n",
       "NumberOfTime30-59DaysPastDueNotWorse                      0.040762   \n",
       "DebtRatio                                                 0.068377   \n",
       "MonthlyIncome                                             0.132920   \n",
       "NumberOfOpenCreditLinesAndLoans                           0.428317   \n",
       "NumberOfTimes90DaysLate                                  -0.062827   \n",
       "NumberRealEstateLoansOrLines                              1.000000   \n",
       "NumberOfTime60-89DaysPastDueNotWorse                     -0.020535   \n",
       "NumberOfDependents                                        0.138995   \n",
       "\n",
       "                                      NumberOfTime60-89DaysPastDueNotWorse  \\\n",
       "SeriousDlqin2yrs                                                  0.268507   \n",
       "RevolvingUtilizationOfUnsecuredLines                             -0.003473   \n",
       "age                                                              -0.070902   \n",
       "NumberOfTime30-59DaysPastDueNotWorse                              0.305132   \n",
       "DebtRatio                                                        -0.005502   \n",
       "MonthlyIncome                                                    -0.010949   \n",
       "NumberOfOpenCreditLinesAndLoans                                  -0.022816   \n",
       "NumberOfTimes90DaysLate                                           0.294901   \n",
       "NumberRealEstateLoansOrLines                                     -0.020535   \n",
       "NumberOfTime60-89DaysPastDueNotWorse                              1.000000   \n",
       "NumberOfDependents                                                0.037495   \n",
       "\n",
       "                                      NumberOfDependents  \n",
       "SeriousDlqin2yrs                                0.049214  \n",
       "RevolvingUtilizationOfUnsecuredLines            0.004218  \n",
       "age                                            -0.221057  \n",
       "NumberOfTime30-59DaysPastDueNotWorse            0.066642  \n",
       "DebtRatio                                      -0.098467  \n",
       "MonthlyIncome                                   0.063534  \n",
       "NumberOfOpenCreditLinesAndLoans                 0.071209  \n",
       "NumberOfTimes90DaysLate                         0.031856  \n",
       "NumberRealEstateLoansOrLines                    0.138995  \n",
       "NumberOfTime60-89DaysPastDueNotWorse            0.037495  \n",
       "NumberOfDependents                              1.000000  "
      ]
     },
     "execution_count": 28,
     "metadata": {},
     "output_type": "execute_result"
    }
   ],
   "source": [
    "train.corr()"
   ]
  },
  {
   "cell_type": "code",
   "execution_count": 29,
   "id": "819ee7e5",
   "metadata": {},
   "outputs": [
    {
     "data": {
      "text/plain": [
       "0.2455860184337507"
      ]
     },
     "execution_count": 29,
     "metadata": {},
     "output_type": "execute_result"
    }
   ],
   "source": [
    "train['NumberOfTime30-59DaysPastDueNotWorse'].mean()"
   ]
  },
  {
   "cell_type": "code",
   "execution_count": 30,
   "id": "e07d918a",
   "metadata": {},
   "outputs": [
    {
     "data": {
      "text/plain": [
       "0.06539231949998968"
      ]
     },
     "execution_count": 30,
     "metadata": {},
     "output_type": "execute_result"
    }
   ],
   "source": [
    "train['NumberOfTime60-89DaysPastDueNotWorse'].mean()"
   ]
  },
  {
   "cell_type": "code",
   "execution_count": 31,
   "id": "c6cf5655",
   "metadata": {},
   "outputs": [
    {
     "data": {
      "text/plain": [
       "0.09174886595951183"
      ]
     },
     "execution_count": 31,
     "metadata": {},
     "output_type": "execute_result"
    }
   ],
   "source": [
    "train['NumberOfTimes90DaysLate'].mean()"
   ]
  },
  {
   "cell_type": "markdown",
   "id": "1829a09d",
   "metadata": {},
   "source": [
    "## 1. Using original data"
   ]
  },
  {
   "cell_type": "code",
   "execution_count": 32,
   "id": "c62c7820",
   "metadata": {},
   "outputs": [],
   "source": [
    "X_minus=X.copy()"
   ]
  },
  {
   "cell_type": "code",
   "execution_count": 33,
   "id": "632e2525",
   "metadata": {},
   "outputs": [],
   "source": [
    "X_minus['30-59Days60-89DaysDiff']=X_minus['NumberOfTime30-59DaysPastDueNotWorse']-X_minus['NumberOfTime60-89DaysPastDueNotWorse']\n",
    "X_minus=X_minus.drop(['NumberOfTime30-59DaysPastDueNotWorse','NumberOfTime60-89DaysPastDueNotWorse'],axis=1)"
   ]
  },
  {
   "cell_type": "code",
   "execution_count": 34,
   "id": "a4af1927",
   "metadata": {},
   "outputs": [
    {
     "data": {
      "text/plain": [
       "0.7611843808356344"
      ]
     },
     "execution_count": 34,
     "metadata": {},
     "output_type": "execute_result"
    }
   ],
   "source": [
    "LR=LogisticRegression(random_state=0,max_iter=1000)\n",
    "LR_scores=cross_val_score(LR,X_minus,y,cv=10,scoring='roc_auc')\n",
    "LR_scores.mean()"
   ]
  },
  {
   "cell_type": "markdown",
   "id": "0479e2ab",
   "metadata": {},
   "source": [
    "## 2. Using resampled data"
   ]
  },
  {
   "cell_type": "code",
   "execution_count": 35,
   "id": "9a198189",
   "metadata": {},
   "outputs": [],
   "source": [
    "X_res_minus=X_res.copy()"
   ]
  },
  {
   "cell_type": "code",
   "execution_count": 36,
   "id": "f3770441",
   "metadata": {},
   "outputs": [],
   "source": [
    "X_res_minus['30-59Days60-89DaysDiff']=X_res_minus['NumberOfTime30-59DaysPastDueNotWorse']-X_res_minus['NumberOfTime60-89DaysPastDueNotWorse']\n",
    "X_res_minus=X_res_minus.drop(['NumberOfTime30-59DaysPastDueNotWorse','NumberOfTime60-89DaysPastDueNotWorse'],axis=1)"
   ]
  },
  {
   "cell_type": "code",
   "execution_count": 37,
   "id": "bcf63cf5",
   "metadata": {},
   "outputs": [
    {
     "data": {
      "text/plain": [
       "0.7674570357897791"
      ]
     },
     "execution_count": 37,
     "metadata": {},
     "output_type": "execute_result"
    }
   ],
   "source": [
    "LR=LogisticRegression(random_state=0,max_iter=1000)\n",
    "LR_scores=cross_val_score(LR,X_res_minus,y_res,cv=10,scoring='roc_auc')\n",
    "LR_scores.mean()"
   ]
  },
  {
   "cell_type": "markdown",
   "id": "79677ee3",
   "metadata": {},
   "source": [
    "Overall, for the original data, the scaled_data performed the best. The oversampled data without any further modfifications performed the best overall with a score of 81.8"
   ]
  },
  {
   "cell_type": "markdown",
   "id": "eca8a47c",
   "metadata": {},
   "source": [
    "## Feature Importance"
   ]
  },
  {
   "cell_type": "code",
   "execution_count": 56,
   "id": "da6b92af",
   "metadata": {},
   "outputs": [
    {
     "data": {
      "text/plain": [
       "LogisticRegression(max_iter=1000, random_state=0)"
      ]
     },
     "execution_count": 56,
     "metadata": {},
     "output_type": "execute_result"
    }
   ],
   "source": [
    "LR=LogisticRegression(random_state=0,max_iter=1000)\n",
    "LR.fit(X_scaled,y)"
   ]
  },
  {
   "cell_type": "code",
   "execution_count": 58,
   "id": "0f9fa80c",
   "metadata": {},
   "outputs": [],
   "source": [
    "importances = pd.DataFrame(data={\n",
    "    'Attribute': X.columns,\n",
    "    'Importance': LR.coef_[0]})\n",
    "importances=importances.sort_values(by='Importance',ascending=False)"
   ]
  },
  {
   "cell_type": "code",
   "execution_count": 61,
   "id": "a6ea1cf8",
   "metadata": {},
   "outputs": [
    {
     "data": {
      "image/png": "[encoded data removed]",
      "text/plain": [
       "<Figure size 432x288 with 1 Axes>"
      ]
     },
     "metadata": {
      "needs_background": "light"
     },
     "output_type": "display_data"
    }
   ],
   "source": [
    "plt.bar(x=importances['Attribute'], height=importances['Importance'], color='#087E8B')\n",
    "plt.title('Feature importances obtained from coefficients', size=20)\n",
    "plt.xticks(rotation='vertical')\n",
    "plt.show()"
   ]
  },
  {
   "cell_type": "markdown",
   "id": "363f599f",
   "metadata": {},
   "source": [
    "# Random Forest"
   ]
  },
  {
   "cell_type": "code",
   "execution_count": 38,
   "id": "442a277e",
   "metadata": {},
   "outputs": [
    {
     "data": {
      "text/plain": [
       "0.8004778143421568"
      ]
     },
     "execution_count": 38,
     "metadata": {},
     "output_type": "execute_result"
    }
   ],
   "source": [
    "RF=RandomForestClassifier(random_state=0)\n",
    "RF_scores=cross_val_score(RF,X,y,cv=10,scoring='roc_auc')\n",
    "RF_scores.mean()"
   ]
  },
  {
   "cell_type": "code",
   "execution_count": 65,
   "id": "d273fb23",
   "metadata": {},
   "outputs": [
    {
     "data": {
      "text/plain": [
       "0.8004030348113422"
      ]
     },
     "execution_count": 65,
     "metadata": {},
     "output_type": "execute_result"
    }
   ],
   "source": [
    "RF=RandomForestClassifier(random_state=0)\n",
    "RF_scores=cross_val_score(RF,X_scaled,y,cv=10,scoring='roc_auc')\n",
    "RF_scores.mean()"
   ]
  },
  {
   "cell_type": "markdown",
   "id": "92acbfd8",
   "metadata": {},
   "source": [
    "## Using balanced data"
   ]
  },
  {
   "cell_type": "code",
   "execution_count": 39,
   "id": "2c6a111a",
   "metadata": {},
   "outputs": [
    {
     "data": {
      "text/plain": [
       "0.9982219508146406"
      ]
     },
     "execution_count": 39,
     "metadata": {},
     "output_type": "execute_result"
    }
   ],
   "source": [
    "RF=RandomForestClassifier(random_state=0)\n",
    "RF_scores=cross_val_score(RF,X_res,y_res,cv=10,scoring='roc_auc')\n",
    "RF_scores.mean()"
   ]
  },
  {
   "cell_type": "markdown",
   "id": "0b3f6d93",
   "metadata": {},
   "source": [
    "This really high score could be due to overfitting because of the oversampling of the minority class data points."
   ]
  },
  {
   "cell_type": "markdown",
   "id": "d217d36e",
   "metadata": {},
   "source": [
    "## Feature importance"
   ]
  },
  {
   "cell_type": "code",
   "execution_count": 40,
   "id": "22af1c14",
   "metadata": {},
   "outputs": [
    {
     "data": {
      "text/plain": [
       "RandomForestClassifier(random_state=0)"
      ]
     },
     "execution_count": 40,
     "metadata": {},
     "output_type": "execute_result"
    }
   ],
   "source": [
    "RF.fit(X,y)"
   ]
  },
  {
   "cell_type": "code",
   "execution_count": 41,
   "id": "eb377f67",
   "metadata": {},
   "outputs": [],
   "source": [
    "RF_feature_importance=RF.feature_importances_\n",
    "feature_names=list(X.columns)"
   ]
  },
  {
   "cell_type": "code",
   "execution_count": 45,
   "id": "c30c965d",
   "metadata": {},
   "outputs": [
    {
     "data": {
      "text/plain": [
       "Text(0.5, 0, 'Random Forest Feature Importance')"
      ]
     },
     "execution_count": 45,
     "metadata": {},
     "output_type": "execute_result"
    },
    {
     "data": {
      "image/png": "[encoded data removed]",
      "text/plain": [
       "<Figure size 432x288 with 1 Axes>"
      ]
     },
     "metadata": {
      "needs_background": "light"
     },
     "output_type": "display_data"
    }
   ],
   "source": [
    "sorted_idx=RF.feature_importances_.argsort()\n",
    "plt.barh(X.columns[sorted_idx],RF.feature_importances_[sorted_idx])\n",
    "plt.xlabel('Random Forest Feature Importance')"
   ]
  },
  {
   "cell_type": "markdown",
   "id": "d90b061c",
   "metadata": {},
   "source": [
    "# Hyper parameter tuning with GridSearchCV"
   ]
  },
  {
   "cell_type": "markdown",
   "id": "6aae5901",
   "metadata": {},
   "source": [
    "## Logistic Regression"
   ]
  },
  {
   "cell_type": "code",
   "execution_count": 97,
   "id": "0dcfd64b",
   "metadata": {},
   "outputs": [],
   "source": [
    "param_grid=[{'penalty':['l1','l2','elasticnet'],\n",
    "             'C': np.logspace(-4, 4, 20),\n",
    "             'solver': ['lbfgs','newton-cg','liblinear','sag','saga'],\n",
    "            }]"
   ]
  },
  {
   "cell_type": "code",
   "execution_count": 98,
   "id": "710f9a4e",
   "metadata": {},
   "outputs": [],
   "source": [
    "LR=LogisticRegression(random_state=0,max_iter=1000)\n",
    "log_clf= GridSearchCV(LR,param_grid=param_grid,cv=5,verbose=True, n_jobs=-1)"
   ]
  },
  {
   "cell_type": "code",
   "execution_count": 99,
   "id": "06f5011a",
   "metadata": {},
   "outputs": [
    {
     "name": "stdout",
     "output_type": "stream",
     "text": [
      "Fitting 5 folds for each of 300 candidates, totalling 1500 fits\n"
     ]
    },
    {
     "name": "stderr",
     "output_type": "stream",
     "text": [
      "/Users/felixinoue/opt/anaconda3/envs/smartpay/lib/python3.9/site-packages/sklearn/model_selection/_validation.py:372: FitFailedWarning: \n",
      "800 fits failed out of a total of 1500.\n",
      "The score on these train-test partitions for these parameters will be set to nan.\n",
      "If these failures are not expected, you can try to debug them by setting error_score='raise'.\n",
      "\n",
      "Below are more details about the failures:\n",
      "--------------------------------------------------------------------------------\n",
      "100 fits failed with the following error:\n",
      "Traceback (most recent call last):\n",
      "  File \"/Users/felixinoue/opt/anaconda3/envs/smartpay/lib/python3.9/site-packages/sklearn/model_selection/_validation.py\", line 681, in _fit_and_score\n",
      "    estimator.fit(X_train, y_train, **fit_params)\n",
      "  File \"/Users/felixinoue/opt/anaconda3/envs/smartpay/lib/python3.9/site-packages/sklearn/linear_model/_logistic.py\", line 1461, in fit\n",
      "    solver = _check_solver(self.solver, self.penalty, self.dual)\n",
      "  File \"/Users/felixinoue/opt/anaconda3/envs/smartpay/lib/python3.9/site-packages/sklearn/linear_model/_logistic.py\", line 447, in _check_solver\n",
      "    raise ValueError(\n",
      "ValueError: Solver lbfgs supports only 'l2' or 'none' penalties, got l1 penalty.\n",
      "\n",
      "--------------------------------------------------------------------------------\n",
      "100 fits failed with the following error:\n",
      "Traceback (most recent call last):\n",
      "  File \"/Users/felixinoue/opt/anaconda3/envs/smartpay/lib/python3.9/site-packages/sklearn/model_selection/_validation.py\", line 681, in _fit_and_score\n",
      "    estimator.fit(X_train, y_train, **fit_params)\n",
      "  File \"/Users/felixinoue/opt/anaconda3/envs/smartpay/lib/python3.9/site-packages/sklearn/linear_model/_logistic.py\", line 1461, in fit\n",
      "    solver = _check_solver(self.solver, self.penalty, self.dual)\n",
      "  File \"/Users/felixinoue/opt/anaconda3/envs/smartpay/lib/python3.9/site-packages/sklearn/linear_model/_logistic.py\", line 447, in _check_solver\n",
      "    raise ValueError(\n",
      "ValueError: Solver newton-cg supports only 'l2' or 'none' penalties, got l1 penalty.\n",
      "\n",
      "--------------------------------------------------------------------------------\n",
      "100 fits failed with the following error:\n",
      "Traceback (most recent call last):\n",
      "  File \"/Users/felixinoue/opt/anaconda3/envs/smartpay/lib/python3.9/site-packages/sklearn/model_selection/_validation.py\", line 681, in _fit_and_score\n",
      "    estimator.fit(X_train, y_train, **fit_params)\n",
      "  File \"/Users/felixinoue/opt/anaconda3/envs/smartpay/lib/python3.9/site-packages/sklearn/linear_model/_logistic.py\", line 1461, in fit\n",
      "    solver = _check_solver(self.solver, self.penalty, self.dual)\n",
      "  File \"/Users/felixinoue/opt/anaconda3/envs/smartpay/lib/python3.9/site-packages/sklearn/linear_model/_logistic.py\", line 447, in _check_solver\n",
      "    raise ValueError(\n",
      "ValueError: Solver sag supports only 'l2' or 'none' penalties, got l1 penalty.\n",
      "\n",
      "--------------------------------------------------------------------------------\n",
      "100 fits failed with the following error:\n",
      "Traceback (most recent call last):\n",
      "  File \"/Users/felixinoue/opt/anaconda3/envs/smartpay/lib/python3.9/site-packages/sklearn/model_selection/_validation.py\", line 681, in _fit_and_score\n",
      "    estimator.fit(X_train, y_train, **fit_params)\n",
      "  File \"/Users/felixinoue/opt/anaconda3/envs/smartpay/lib/python3.9/site-packages/sklearn/linear_model/_logistic.py\", line 1461, in fit\n",
      "    solver = _check_solver(self.solver, self.penalty, self.dual)\n",
      "  File \"/Users/felixinoue/opt/anaconda3/envs/smartpay/lib/python3.9/site-packages/sklearn/linear_model/_logistic.py\", line 447, in _check_solver\n",
      "    raise ValueError(\n",
      "ValueError: Solver lbfgs supports only 'l2' or 'none' penalties, got elasticnet penalty.\n",
      "\n",
      "--------------------------------------------------------------------------------\n",
      "100 fits failed with the following error:\n",
      "Traceback (most recent call last):\n",
      "  File \"/Users/felixinoue/opt/anaconda3/envs/smartpay/lib/python3.9/site-packages/sklearn/model_selection/_validation.py\", line 681, in _fit_and_score\n",
      "    estimator.fit(X_train, y_train, **fit_params)\n",
      "  File \"/Users/felixinoue/opt/anaconda3/envs/smartpay/lib/python3.9/site-packages/sklearn/linear_model/_logistic.py\", line 1461, in fit\n",
      "    solver = _check_solver(self.solver, self.penalty, self.dual)\n",
      "  File \"/Users/felixinoue/opt/anaconda3/envs/smartpay/lib/python3.9/site-packages/sklearn/linear_model/_logistic.py\", line 447, in _check_solver\n",
      "    raise ValueError(\n",
      "ValueError: Solver newton-cg supports only 'l2' or 'none' penalties, got elasticnet penalty.\n",
      "\n",
      "--------------------------------------------------------------------------------\n",
      "100 fits failed with the following error:\n",
      "Traceback (most recent call last):\n",
      "  File \"/Users/felixinoue/opt/anaconda3/envs/smartpay/lib/python3.9/site-packages/sklearn/model_selection/_validation.py\", line 681, in _fit_and_score\n",
      "    estimator.fit(X_train, y_train, **fit_params)\n",
      "  File \"/Users/felixinoue/opt/anaconda3/envs/smartpay/lib/python3.9/site-packages/sklearn/linear_model/_logistic.py\", line 1461, in fit\n",
      "    solver = _check_solver(self.solver, self.penalty, self.dual)\n",
      "  File \"/Users/felixinoue/opt/anaconda3/envs/smartpay/lib/python3.9/site-packages/sklearn/linear_model/_logistic.py\", line 457, in _check_solver\n",
      "    raise ValueError(\n",
      "ValueError: Only 'saga' solver supports elasticnet penalty, got solver=liblinear.\n",
      "\n",
      "--------------------------------------------------------------------------------\n",
      "100 fits failed with the following error:\n",
      "Traceback (most recent call last):\n",
      "  File \"/Users/felixinoue/opt/anaconda3/envs/smartpay/lib/python3.9/site-packages/sklearn/model_selection/_validation.py\", line 681, in _fit_and_score\n",
      "    estimator.fit(X_train, y_train, **fit_params)\n",
      "  File \"/Users/felixinoue/opt/anaconda3/envs/smartpay/lib/python3.9/site-packages/sklearn/linear_model/_logistic.py\", line 1461, in fit\n",
      "    solver = _check_solver(self.solver, self.penalty, self.dual)\n",
      "  File \"/Users/felixinoue/opt/anaconda3/envs/smartpay/lib/python3.9/site-packages/sklearn/linear_model/_logistic.py\", line 447, in _check_solver\n",
      "    raise ValueError(\n",
      "ValueError: Solver sag supports only 'l2' or 'none' penalties, got elasticnet penalty.\n",
      "\n",
      "--------------------------------------------------------------------------------\n",
      "100 fits failed with the following error:\n",
      "Traceback (most recent call last):\n",
      "  File \"/Users/felixinoue/opt/anaconda3/envs/smartpay/lib/python3.9/site-packages/sklearn/model_selection/_validation.py\", line 681, in _fit_and_score\n",
      "    estimator.fit(X_train, y_train, **fit_params)\n",
      "  File \"/Users/felixinoue/opt/anaconda3/envs/smartpay/lib/python3.9/site-packages/sklearn/linear_model/_logistic.py\", line 1471, in fit\n",
      "    raise ValueError(\n",
      "ValueError: l1_ratio must be between 0 and 1; got (l1_ratio=None)\n",
      "\n",
      "  warnings.warn(some_fits_failed_message, FitFailedWarning)\n",
      "/Users/felixinoue/opt/anaconda3/envs/smartpay/lib/python3.9/site-packages/sklearn/model_selection/_search.py:969: UserWarning: One or more of the test scores are non-finite: [       nan        nan 0.93370595        nan 0.93370595 0.936005\n",
      " 0.936005   0.9368792  0.93601189 0.93599812        nan        nan\n",
      "        nan        nan        nan        nan        nan 0.93540615\n",
      "        nan 0.93517212 0.93652814 0.93652814 0.93689985 0.93652814\n",
      " 0.93652814        nan        nan        nan        nan        nan\n",
      "        nan        nan 0.93654879        nan 0.93642489 0.93672776\n",
      " 0.93672776 0.93680348 0.93672776 0.93672776        nan        nan\n",
      "        nan        nan        nan        nan        nan 0.93654191\n",
      "        nan 0.93655567 0.93676906 0.93676906 0.93685166 0.93676906\n",
      " 0.93676906        nan        nan        nan        nan        nan\n",
      "        nan        nan 0.93676218        nan 0.93676218 0.93685166\n",
      " 0.93685166 0.93678971 0.93685166 0.93684478        nan        nan\n",
      "        nan        nan        nan        nan        nan 0.93681036\n",
      "        nan 0.93682413 0.93683101 0.93683101 0.93686543 0.93683101\n",
      " 0.93683101        nan        nan        nan        nan        nan\n",
      "        nan        nan 0.93686543        nan 0.93686543 0.9368379\n",
      " 0.9368379  0.93683101 0.9368379  0.9368379         nan        nan\n",
      "        nan        nan        nan        nan        nan 0.93685855\n",
      "        nan 0.93686543 0.9368379  0.9368379  0.93683101 0.93684478\n",
      " 0.93684478        nan        nan        nan        nan        nan\n",
      "        nan        nan 0.93683101        nan 0.9368379  0.93684478\n",
      " 0.9368379  0.9368379  0.93684478 0.9368379         nan        nan\n",
      "        nan        nan        nan        nan        nan 0.9368379\n",
      "        nan 0.9368379  0.9368379  0.9368379  0.93683101 0.9368379\n",
      " 0.93685166        nan        nan        nan        nan        nan\n",
      "        nan        nan 0.93684478        nan 0.93684478 0.93685166\n",
      " 0.93685166 0.93685166 0.93684478 0.93684478        nan        nan\n",
      "        nan        nan        nan        nan        nan 0.93685166\n",
      "        nan 0.93684478 0.93685166 0.93685166 0.93685166 0.93684478\n",
      " 0.93684478        nan        nan        nan        nan        nan\n",
      "        nan        nan 0.93685166        nan 0.93684478 0.93685166\n",
      " 0.93685166 0.93685166 0.93685166 0.93684478        nan        nan\n",
      "        nan        nan        nan        nan        nan 0.93685166\n",
      "        nan 0.93684478 0.93685166 0.93685166 0.93685166 0.93685166\n",
      " 0.93684478        nan        nan        nan        nan        nan\n",
      "        nan        nan 0.93685166        nan 0.93684478 0.93685166\n",
      " 0.93685166 0.93685166 0.93685166 0.93684478        nan        nan\n",
      "        nan        nan        nan        nan        nan 0.93685166\n",
      "        nan 0.93684478 0.93685166 0.93685166 0.93685166 0.93685166\n",
      " 0.93684478        nan        nan        nan        nan        nan\n",
      "        nan        nan 0.93685166        nan 0.93684478 0.93685166\n",
      " 0.93685166 0.93685166 0.93685166 0.93684478        nan        nan\n",
      "        nan        nan        nan        nan        nan 0.93685166\n",
      "        nan 0.93684478 0.93685166 0.93685166 0.93685166 0.93685166\n",
      " 0.93684478        nan        nan        nan        nan        nan\n",
      "        nan        nan 0.93685166        nan 0.93684478 0.93685166\n",
      " 0.93685166 0.93685166 0.93685166 0.93684478        nan        nan\n",
      "        nan        nan        nan        nan        nan 0.93685166\n",
      "        nan 0.93684478 0.93685166 0.93685166 0.93685166 0.93685166\n",
      " 0.93684478        nan        nan        nan        nan        nan]\n",
      "  warnings.warn(\n"
     ]
    }
   ],
   "source": [
    "best_log_clf= log_clf.fit(X_scaled,y)"
   ]
  },
  {
   "cell_type": "code",
   "execution_count": 100,
   "id": "138361fc",
   "metadata": {},
   "outputs": [
    {
     "data": {
      "text/plain": [
       "LogisticRegression(C=0.00026366508987303583, max_iter=1000, random_state=0,\n",
       "                   solver='liblinear')"
      ]
     },
     "execution_count": 100,
     "metadata": {},
     "output_type": "execute_result"
    }
   ],
   "source": [
    "best_log_clf.best_estimator_"
   ]
  },
  {
   "cell_type": "markdown",
   "id": "7d473623",
   "metadata": {},
   "source": [
    "Best estimators: LogisticRegression(C=0.00026366508987303583, max_iter=1000, random_state=0,\n",
    "                   solver='liblinear')"
   ]
  },
  {
   "cell_type": "code",
   "execution_count": 101,
   "id": "f6b30e88",
   "metadata": {},
   "outputs": [
    {
     "data": {
      "text/plain": [
       "0.9368998465427486"
      ]
     },
     "execution_count": 101,
     "metadata": {},
     "output_type": "execute_result"
    }
   ],
   "source": [
    "best_log_clf.best_score_"
   ]
  },
  {
   "cell_type": "markdown",
   "id": "f0353ff0",
   "metadata": {},
   "source": [
    "## Submission"
   ]
  },
  {
   "cell_type": "code",
   "execution_count": 102,
   "id": "05128553",
   "metadata": {},
   "outputs": [
    {
     "data": {
      "text/html": [
       "<div>\n",
       "<style scoped>\n",
       "    .dataframe tbody tr th:only-of-type {\n",
       "        vertical-align: middle;\n",
       "    }\n",
       "\n",
       "    .dataframe tbody tr th {\n",
       "        vertical-align: top;\n",
       "    }\n",
       "\n",
       "    .dataframe thead th {\n",
       "        text-align: right;\n",
       "    }\n",
       "</style>\n",
       "<table border=\"1\" class=\"dataframe\">\n",
       "  <thead>\n",
       "    <tr style=\"text-align: right;\">\n",
       "      <th></th>\n",
       "      <th>RevolvingUtilizationOfUnsecuredLines</th>\n",
       "      <th>age</th>\n",
       "      <th>NumberOfTime30-59DaysPastDueNotWorse</th>\n",
       "      <th>DebtRatio</th>\n",
       "      <th>MonthlyIncome</th>\n",
       "      <th>NumberOfOpenCreditLinesAndLoans</th>\n",
       "      <th>NumberOfTimes90DaysLate</th>\n",
       "      <th>NumberRealEstateLoansOrLines</th>\n",
       "      <th>NumberOfTime60-89DaysPastDueNotWorse</th>\n",
       "      <th>NumberOfDependents</th>\n",
       "    </tr>\n",
       "  </thead>\n",
       "  <tbody>\n",
       "    <tr>\n",
       "      <th>1</th>\n",
       "      <td>0.885519</td>\n",
       "      <td>43</td>\n",
       "      <td>0</td>\n",
       "      <td>0.177513</td>\n",
       "      <td>5700.0</td>\n",
       "      <td>4</td>\n",
       "      <td>0</td>\n",
       "      <td>0</td>\n",
       "      <td>0</td>\n",
       "      <td>0.0</td>\n",
       "    </tr>\n",
       "    <tr>\n",
       "      <th>2</th>\n",
       "      <td>0.463295</td>\n",
       "      <td>57</td>\n",
       "      <td>0</td>\n",
       "      <td>0.527237</td>\n",
       "      <td>9141.0</td>\n",
       "      <td>15</td>\n",
       "      <td>0</td>\n",
       "      <td>4</td>\n",
       "      <td>0</td>\n",
       "      <td>2.0</td>\n",
       "    </tr>\n",
       "    <tr>\n",
       "      <th>3</th>\n",
       "      <td>0.043275</td>\n",
       "      <td>59</td>\n",
       "      <td>0</td>\n",
       "      <td>0.687648</td>\n",
       "      <td>5083.0</td>\n",
       "      <td>12</td>\n",
       "      <td>0</td>\n",
       "      <td>1</td>\n",
       "      <td>0</td>\n",
       "      <td>2.0</td>\n",
       "    </tr>\n",
       "    <tr>\n",
       "      <th>4</th>\n",
       "      <td>0.280308</td>\n",
       "      <td>38</td>\n",
       "      <td>1</td>\n",
       "      <td>0.925961</td>\n",
       "      <td>3200.0</td>\n",
       "      <td>7</td>\n",
       "      <td>0</td>\n",
       "      <td>2</td>\n",
       "      <td>0</td>\n",
       "      <td>0.0</td>\n",
       "    </tr>\n",
       "    <tr>\n",
       "      <th>5</th>\n",
       "      <td>1.000000</td>\n",
       "      <td>27</td>\n",
       "      <td>0</td>\n",
       "      <td>0.019917</td>\n",
       "      <td>3865.0</td>\n",
       "      <td>4</td>\n",
       "      <td>0</td>\n",
       "      <td>0</td>\n",
       "      <td>0</td>\n",
       "      <td>1.0</td>\n",
       "    </tr>\n",
       "  </tbody>\n",
       "</table>\n",
       "</div>"
      ],
      "text/plain": [
       "   RevolvingUtilizationOfUnsecuredLines  age  \\\n",
       "1                              0.885519   43   \n",
       "2                              0.463295   57   \n",
       "3                              0.043275   59   \n",
       "4                              0.280308   38   \n",
       "5                              1.000000   27   \n",
       "\n",
       "   NumberOfTime30-59DaysPastDueNotWorse  DebtRatio  MonthlyIncome  \\\n",
       "1                                     0   0.177513         5700.0   \n",
       "2                                     0   0.527237         9141.0   \n",
       "3                                     0   0.687648         5083.0   \n",
       "4                                     1   0.925961         3200.0   \n",
       "5                                     0   0.019917         3865.0   \n",
       "\n",
       "   NumberOfOpenCreditLinesAndLoans  NumberOfTimes90DaysLate  \\\n",
       "1                                4                        0   \n",
       "2                               15                        0   \n",
       "3                               12                        0   \n",
       "4                                7                        0   \n",
       "5                                4                        0   \n",
       "\n",
       "   NumberRealEstateLoansOrLines  NumberOfTime60-89DaysPastDueNotWorse  \\\n",
       "1                             0                                     0   \n",
       "2                             4                                     0   \n",
       "3                             1                                     0   \n",
       "4                             2                                     0   \n",
       "5                             0                                     0   \n",
       "\n",
       "   NumberOfDependents  \n",
       "1                 0.0  \n",
       "2                 2.0  \n",
       "3                 2.0  \n",
       "4                 0.0  \n",
       "5                 1.0  "
      ]
     },
     "execution_count": 102,
     "metadata": {},
     "output_type": "execute_result"
    }
   ],
   "source": [
    "test=pd.read_csv('data/cs-test.csv',index_col=0)\n",
    "X_test=test.drop('SeriousDlqin2yrs',axis=1)\n",
    "X_test=X_test.dropna()\n",
    "X_test.head()"
   ]
  },
  {
   "cell_type": "code",
   "execution_count": 135,
   "id": "5714a000",
   "metadata": {},
   "outputs": [],
   "source": [
    "# Normalizing X_test\n",
    "ss=StandardScaler()\n",
    "X_test_scaled = ss.fit_transform(X_test)"
   ]
  },
  {
   "cell_type": "code",
   "execution_count": 141,
   "id": "42084fbb",
   "metadata": {},
   "outputs": [],
   "source": [
    "best_log_classifier = LogisticRegression(C= 0.00026366508987303583, penalty= 'l2', solver= 'liblinear')\n",
    "best_log_classifier.fit(X_scaled,y)\n",
    "\n",
    "predict_proba = best_log_classifier.predict_proba(X_test_scaled)"
   ]
  },
  {
   "cell_type": "code",
   "execution_count": 142,
   "id": "83276b83",
   "metadata": {},
   "outputs": [
    {
     "data": {
      "text/plain": [
       "array([[0.88939259, 0.11060741],\n",
       "       [0.89501729, 0.10498271],\n",
       "       [0.90127127, 0.09872873],\n",
       "       ...,\n",
       "       [0.86749954, 0.13250046],\n",
       "       [0.842597  , 0.157403  ],\n",
       "       [0.87689835, 0.12310165]])"
      ]
     },
     "execution_count": 142,
     "metadata": {},
     "output_type": "execute_result"
    }
   ],
   "source": [
    "predict_proba"
   ]
  },
  {
   "cell_type": "code",
   "execution_count": 149,
   "id": "632dbdce",
   "metadata": {},
   "outputs": [
    {
     "data": {
      "text/html": [
       "<div>\n",
       "<style scoped>\n",
       "    .dataframe tbody tr th:only-of-type {\n",
       "        vertical-align: middle;\n",
       "    }\n",
       "\n",
       "    .dataframe tbody tr th {\n",
       "        vertical-align: top;\n",
       "    }\n",
       "\n",
       "    .dataframe thead th {\n",
       "        text-align: right;\n",
       "    }\n",
       "</style>\n",
       "<table border=\"1\" class=\"dataframe\">\n",
       "  <thead>\n",
       "    <tr style=\"text-align: right;\">\n",
       "      <th></th>\n",
       "      <th>RevolvingUtilizationOfUnsecuredLines</th>\n",
       "      <th>age</th>\n",
       "      <th>NumberOfTime30-59DaysPastDueNotWorse</th>\n",
       "      <th>DebtRatio</th>\n",
       "      <th>MonthlyIncome</th>\n",
       "      <th>NumberOfOpenCreditLinesAndLoans</th>\n",
       "      <th>NumberOfTimes90DaysLate</th>\n",
       "      <th>NumberRealEstateLoansOrLines</th>\n",
       "      <th>NumberOfTime60-89DaysPastDueNotWorse</th>\n",
       "      <th>NumberOfDependents</th>\n",
       "      <th>PredictProbability</th>\n",
       "      <th>Prediction</th>\n",
       "    </tr>\n",
       "  </thead>\n",
       "  <tbody>\n",
       "    <tr>\n",
       "      <th>1</th>\n",
       "      <td>0.885519</td>\n",
       "      <td>43</td>\n",
       "      <td>0</td>\n",
       "      <td>0.177513</td>\n",
       "      <td>5700.0</td>\n",
       "      <td>4</td>\n",
       "      <td>0</td>\n",
       "      <td>0</td>\n",
       "      <td>0</td>\n",
       "      <td>0.0</td>\n",
       "      <td>0.11</td>\n",
       "      <td>0</td>\n",
       "    </tr>\n",
       "    <tr>\n",
       "      <th>2</th>\n",
       "      <td>0.463295</td>\n",
       "      <td>57</td>\n",
       "      <td>0</td>\n",
       "      <td>0.527237</td>\n",
       "      <td>9141.0</td>\n",
       "      <td>15</td>\n",
       "      <td>0</td>\n",
       "      <td>4</td>\n",
       "      <td>0</td>\n",
       "      <td>2.0</td>\n",
       "      <td>0.10</td>\n",
       "      <td>0</td>\n",
       "    </tr>\n",
       "    <tr>\n",
       "      <th>3</th>\n",
       "      <td>0.043275</td>\n",
       "      <td>59</td>\n",
       "      <td>0</td>\n",
       "      <td>0.687648</td>\n",
       "      <td>5083.0</td>\n",
       "      <td>12</td>\n",
       "      <td>0</td>\n",
       "      <td>1</td>\n",
       "      <td>0</td>\n",
       "      <td>2.0</td>\n",
       "      <td>0.10</td>\n",
       "      <td>0</td>\n",
       "    </tr>\n",
       "    <tr>\n",
       "      <th>4</th>\n",
       "      <td>0.280308</td>\n",
       "      <td>38</td>\n",
       "      <td>1</td>\n",
       "      <td>0.925961</td>\n",
       "      <td>3200.0</td>\n",
       "      <td>7</td>\n",
       "      <td>0</td>\n",
       "      <td>2</td>\n",
       "      <td>0</td>\n",
       "      <td>0.0</td>\n",
       "      <td>0.13</td>\n",
       "      <td>0</td>\n",
       "    </tr>\n",
       "    <tr>\n",
       "      <th>5</th>\n",
       "      <td>1.000000</td>\n",
       "      <td>27</td>\n",
       "      <td>0</td>\n",
       "      <td>0.019917</td>\n",
       "      <td>3865.0</td>\n",
       "      <td>4</td>\n",
       "      <td>0</td>\n",
       "      <td>0</td>\n",
       "      <td>0</td>\n",
       "      <td>1.0</td>\n",
       "      <td>0.13</td>\n",
       "      <td>0</td>\n",
       "    </tr>\n",
       "  </tbody>\n",
       "</table>\n",
       "</div>"
      ],
      "text/plain": [
       "   RevolvingUtilizationOfUnsecuredLines  age  \\\n",
       "1                              0.885519   43   \n",
       "2                              0.463295   57   \n",
       "3                              0.043275   59   \n",
       "4                              0.280308   38   \n",
       "5                              1.000000   27   \n",
       "\n",
       "   NumberOfTime30-59DaysPastDueNotWorse  DebtRatio  MonthlyIncome  \\\n",
       "1                                     0   0.177513         5700.0   \n",
       "2                                     0   0.527237         9141.0   \n",
       "3                                     0   0.687648         5083.0   \n",
       "4                                     1   0.925961         3200.0   \n",
       "5                                     0   0.019917         3865.0   \n",
       "\n",
       "   NumberOfOpenCreditLinesAndLoans  NumberOfTimes90DaysLate  \\\n",
       "1                                4                        0   \n",
       "2                               15                        0   \n",
       "3                               12                        0   \n",
       "4                                7                        0   \n",
       "5                                4                        0   \n",
       "\n",
       "   NumberRealEstateLoansOrLines  NumberOfTime60-89DaysPastDueNotWorse  \\\n",
       "1                             0                                     0   \n",
       "2                             4                                     0   \n",
       "3                             1                                     0   \n",
       "4                             2                                     0   \n",
       "5                             0                                     0   \n",
       "\n",
       "   NumberOfDependents  PredictProbability  Prediction  \n",
       "1                 0.0                0.11           0  \n",
       "2                 2.0                0.10           0  \n",
       "3                 2.0                0.10           0  \n",
       "4                 0.0                0.13           0  \n",
       "5                 1.0                0.13           0  "
      ]
     },
     "execution_count": 149,
     "metadata": {},
     "output_type": "execute_result"
    }
   ],
   "source": [
    "predict_proba_class1=[y[1].round(2) for y in predict_proba]\n",
    "X_test['PredictProbability']=predict_proba_class1\n",
    "X_test.head()"
   ]
  },
  {
   "cell_type": "code",
   "execution_count": 150,
   "id": "9656dc63",
   "metadata": {},
   "outputs": [
    {
     "data": {
      "text/plain": [
       "array([0, 0, 0, ..., 0, 0, 0])"
      ]
     },
     "execution_count": 150,
     "metadata": {},
     "output_type": "execute_result"
    }
   ],
   "source": [
    "predictions=best_log_classifier.predict(X_test_scaled)\n",
    "predictions"
   ]
  },
  {
   "cell_type": "code",
   "execution_count": 151,
   "id": "6c6b812d",
   "metadata": {},
   "outputs": [
    {
     "data": {
      "text/html": [
       "<div>\n",
       "<style scoped>\n",
       "    .dataframe tbody tr th:only-of-type {\n",
       "        vertical-align: middle;\n",
       "    }\n",
       "\n",
       "    .dataframe tbody tr th {\n",
       "        vertical-align: top;\n",
       "    }\n",
       "\n",
       "    .dataframe thead th {\n",
       "        text-align: right;\n",
       "    }\n",
       "</style>\n",
       "<table border=\"1\" class=\"dataframe\">\n",
       "  <thead>\n",
       "    <tr style=\"text-align: right;\">\n",
       "      <th></th>\n",
       "      <th>RevolvingUtilizationOfUnsecuredLines</th>\n",
       "      <th>age</th>\n",
       "      <th>NumberOfTime30-59DaysPastDueNotWorse</th>\n",
       "      <th>DebtRatio</th>\n",
       "      <th>MonthlyIncome</th>\n",
       "      <th>NumberOfOpenCreditLinesAndLoans</th>\n",
       "      <th>NumberOfTimes90DaysLate</th>\n",
       "      <th>NumberRealEstateLoansOrLines</th>\n",
       "      <th>NumberOfTime60-89DaysPastDueNotWorse</th>\n",
       "      <th>NumberOfDependents</th>\n",
       "      <th>PredictProbability</th>\n",
       "      <th>Prediction</th>\n",
       "    </tr>\n",
       "  </thead>\n",
       "  <tbody>\n",
       "    <tr>\n",
       "      <th>1</th>\n",
       "      <td>0.885519</td>\n",
       "      <td>43</td>\n",
       "      <td>0</td>\n",
       "      <td>0.177513</td>\n",
       "      <td>5700.0</td>\n",
       "      <td>4</td>\n",
       "      <td>0</td>\n",
       "      <td>0</td>\n",
       "      <td>0</td>\n",
       "      <td>0.0</td>\n",
       "      <td>0.11</td>\n",
       "      <td>0</td>\n",
       "    </tr>\n",
       "    <tr>\n",
       "      <th>2</th>\n",
       "      <td>0.463295</td>\n",
       "      <td>57</td>\n",
       "      <td>0</td>\n",
       "      <td>0.527237</td>\n",
       "      <td>9141.0</td>\n",
       "      <td>15</td>\n",
       "      <td>0</td>\n",
       "      <td>4</td>\n",
       "      <td>0</td>\n",
       "      <td>2.0</td>\n",
       "      <td>0.10</td>\n",
       "      <td>0</td>\n",
       "    </tr>\n",
       "    <tr>\n",
       "      <th>3</th>\n",
       "      <td>0.043275</td>\n",
       "      <td>59</td>\n",
       "      <td>0</td>\n",
       "      <td>0.687648</td>\n",
       "      <td>5083.0</td>\n",
       "      <td>12</td>\n",
       "      <td>0</td>\n",
       "      <td>1</td>\n",
       "      <td>0</td>\n",
       "      <td>2.0</td>\n",
       "      <td>0.10</td>\n",
       "      <td>0</td>\n",
       "    </tr>\n",
       "    <tr>\n",
       "      <th>4</th>\n",
       "      <td>0.280308</td>\n",
       "      <td>38</td>\n",
       "      <td>1</td>\n",
       "      <td>0.925961</td>\n",
       "      <td>3200.0</td>\n",
       "      <td>7</td>\n",
       "      <td>0</td>\n",
       "      <td>2</td>\n",
       "      <td>0</td>\n",
       "      <td>0.0</td>\n",
       "      <td>0.13</td>\n",
       "      <td>0</td>\n",
       "    </tr>\n",
       "    <tr>\n",
       "      <th>5</th>\n",
       "      <td>1.000000</td>\n",
       "      <td>27</td>\n",
       "      <td>0</td>\n",
       "      <td>0.019917</td>\n",
       "      <td>3865.0</td>\n",
       "      <td>4</td>\n",
       "      <td>0</td>\n",
       "      <td>0</td>\n",
       "      <td>0</td>\n",
       "      <td>1.0</td>\n",
       "      <td>0.13</td>\n",
       "      <td>0</td>\n",
       "    </tr>\n",
       "  </tbody>\n",
       "</table>\n",
       "</div>"
      ],
      "text/plain": [
       "   RevolvingUtilizationOfUnsecuredLines  age  \\\n",
       "1                              0.885519   43   \n",
       "2                              0.463295   57   \n",
       "3                              0.043275   59   \n",
       "4                              0.280308   38   \n",
       "5                              1.000000   27   \n",
       "\n",
       "   NumberOfTime30-59DaysPastDueNotWorse  DebtRatio  MonthlyIncome  \\\n",
       "1                                     0   0.177513         5700.0   \n",
       "2                                     0   0.527237         9141.0   \n",
       "3                                     0   0.687648         5083.0   \n",
       "4                                     1   0.925961         3200.0   \n",
       "5                                     0   0.019917         3865.0   \n",
       "\n",
       "   NumberOfOpenCreditLinesAndLoans  NumberOfTimes90DaysLate  \\\n",
       "1                                4                        0   \n",
       "2                               15                        0   \n",
       "3                               12                        0   \n",
       "4                                7                        0   \n",
       "5                                4                        0   \n",
       "\n",
       "   NumberRealEstateLoansOrLines  NumberOfTime60-89DaysPastDueNotWorse  \\\n",
       "1                             0                                     0   \n",
       "2                             4                                     0   \n",
       "3                             1                                     0   \n",
       "4                             2                                     0   \n",
       "5                             0                                     0   \n",
       "\n",
       "   NumberOfDependents  PredictProbability  Prediction  \n",
       "1                 0.0                0.11           0  \n",
       "2                 2.0                0.10           0  \n",
       "3                 2.0                0.10           0  \n",
       "4                 0.0                0.13           0  \n",
       "5                 1.0                0.13           0  "
      ]
     },
     "execution_count": 151,
     "metadata": {},
     "output_type": "execute_result"
    }
   ],
   "source": [
    "X_test['Prediction']=predictions\n",
    "X_test.head()"
   ]
  },
  {
   "cell_type": "code",
   "execution_count": 153,
   "id": "6eddbaed",
   "metadata": {},
   "outputs": [],
   "source": [
    "X_test.to_csv('Submission.csv')"
   ]
  },
  {
   "cell_type": "code",
   "execution_count": null,
   "id": "7dee28b9",
   "metadata": {},
   "outputs": [],
   "source": []
  }
 ],
 "metadata": {
  "kernelspec": {
   "display_name": "Python 3 (ipykernel)",
   "language": "python",
   "name": "python3"
  },
  "language_info": {
   "codemirror_mode": {
    "name": "ipython",
    "version": 3
   },
   "file_extension": ".py",
   "mimetype": "text/x-python",
   "name": "python",
   "nbconvert_exporter": "python",
   "pygments_lexer": "ipython3",
   "version": "3.9.7"
  }
 },
 "nbformat": 4,
 "nbformat_minor": 5
}
