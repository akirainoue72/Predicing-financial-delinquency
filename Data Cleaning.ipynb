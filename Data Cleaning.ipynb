{
 "cells": [
  {
   "cell_type": "code",
   "execution_count": 1,
   "id": "14eeb29b",
   "metadata": {},
   "outputs": [],
   "source": [
    "# Import all relevant libraries for cleaning data\n",
    "\n",
    "import numpy as np\n",
    "import pandas as pd\n",
    "import matplotlib.pyplot as plt\n",
    "import seaborn as sns\n",
    "%matplotlib inline"
   ]
  },
  {
   "cell_type": "code",
   "execution_count": 2,
   "id": "d62494dd",
   "metadata": {},
   "outputs": [
    {
     "data": {
      "text/html": [
       "<div>\n",
       "<style scoped>\n",
       "    .dataframe tbody tr th:only-of-type {\n",
       "        vertical-align: middle;\n",
       "    }\n",
       "\n",
       "    .dataframe tbody tr th {\n",
       "        vertical-align: top;\n",
       "    }\n",
       "\n",
       "    .dataframe thead th {\n",
       "        text-align: right;\n",
       "    }\n",
       "</style>\n",
       "<table border=\"1\" class=\"dataframe\">\n",
       "  <thead>\n",
       "    <tr style=\"text-align: right;\">\n",
       "      <th></th>\n",
       "      <th>SeriousDlqin2yrs</th>\n",
       "      <th>RevolvingUtilizationOfUnsecuredLines</th>\n",
       "      <th>age</th>\n",
       "      <th>NumberOfTime30-59DaysPastDueNotWorse</th>\n",
       "      <th>DebtRatio</th>\n",
       "      <th>MonthlyIncome</th>\n",
       "      <th>NumberOfOpenCreditLinesAndLoans</th>\n",
       "      <th>NumberOfTimes90DaysLate</th>\n",
       "      <th>NumberRealEstateLoansOrLines</th>\n",
       "      <th>NumberOfTime60-89DaysPastDueNotWorse</th>\n",
       "      <th>NumberOfDependents</th>\n",
       "    </tr>\n",
       "  </thead>\n",
       "  <tbody>\n",
       "    <tr>\n",
       "      <th>1</th>\n",
       "      <td>1</td>\n",
       "      <td>0.766127</td>\n",
       "      <td>45</td>\n",
       "      <td>2</td>\n",
       "      <td>0.802982</td>\n",
       "      <td>9120.0</td>\n",
       "      <td>13</td>\n",
       "      <td>0</td>\n",
       "      <td>6</td>\n",
       "      <td>0</td>\n",
       "      <td>2.0</td>\n",
       "    </tr>\n",
       "    <tr>\n",
       "      <th>2</th>\n",
       "      <td>0</td>\n",
       "      <td>0.957151</td>\n",
       "      <td>40</td>\n",
       "      <td>0</td>\n",
       "      <td>0.121876</td>\n",
       "      <td>2600.0</td>\n",
       "      <td>4</td>\n",
       "      <td>0</td>\n",
       "      <td>0</td>\n",
       "      <td>0</td>\n",
       "      <td>1.0</td>\n",
       "    </tr>\n",
       "    <tr>\n",
       "      <th>3</th>\n",
       "      <td>0</td>\n",
       "      <td>0.658180</td>\n",
       "      <td>38</td>\n",
       "      <td>1</td>\n",
       "      <td>0.085113</td>\n",
       "      <td>3042.0</td>\n",
       "      <td>2</td>\n",
       "      <td>1</td>\n",
       "      <td>0</td>\n",
       "      <td>0</td>\n",
       "      <td>0.0</td>\n",
       "    </tr>\n",
       "    <tr>\n",
       "      <th>4</th>\n",
       "      <td>0</td>\n",
       "      <td>0.233810</td>\n",
       "      <td>30</td>\n",
       "      <td>0</td>\n",
       "      <td>0.036050</td>\n",
       "      <td>3300.0</td>\n",
       "      <td>5</td>\n",
       "      <td>0</td>\n",
       "      <td>0</td>\n",
       "      <td>0</td>\n",
       "      <td>0.0</td>\n",
       "    </tr>\n",
       "    <tr>\n",
       "      <th>5</th>\n",
       "      <td>0</td>\n",
       "      <td>0.907239</td>\n",
       "      <td>49</td>\n",
       "      <td>1</td>\n",
       "      <td>0.024926</td>\n",
       "      <td>63588.0</td>\n",
       "      <td>7</td>\n",
       "      <td>0</td>\n",
       "      <td>1</td>\n",
       "      <td>0</td>\n",
       "      <td>0.0</td>\n",
       "    </tr>\n",
       "  </tbody>\n",
       "</table>\n",
       "</div>"
      ],
      "text/plain": [
       "   SeriousDlqin2yrs  RevolvingUtilizationOfUnsecuredLines  age  \\\n",
       "1                 1                              0.766127   45   \n",
       "2                 0                              0.957151   40   \n",
       "3                 0                              0.658180   38   \n",
       "4                 0                              0.233810   30   \n",
       "5                 0                              0.907239   49   \n",
       "\n",
       "   NumberOfTime30-59DaysPastDueNotWorse  DebtRatio  MonthlyIncome  \\\n",
       "1                                     2   0.802982         9120.0   \n",
       "2                                     0   0.121876         2600.0   \n",
       "3                                     1   0.085113         3042.0   \n",
       "4                                     0   0.036050         3300.0   \n",
       "5                                     1   0.024926        63588.0   \n",
       "\n",
       "   NumberOfOpenCreditLinesAndLoans  NumberOfTimes90DaysLate  \\\n",
       "1                               13                        0   \n",
       "2                                4                        0   \n",
       "3                                2                        1   \n",
       "4                                5                        0   \n",
       "5                                7                        0   \n",
       "\n",
       "   NumberRealEstateLoansOrLines  NumberOfTime60-89DaysPastDueNotWorse  \\\n",
       "1                             6                                     0   \n",
       "2                             0                                     0   \n",
       "3                             0                                     0   \n",
       "4                             0                                     0   \n",
       "5                             1                                     0   \n",
       "\n",
       "   NumberOfDependents  \n",
       "1                 2.0  \n",
       "2                 1.0  \n",
       "3                 0.0  \n",
       "4                 0.0  \n",
       "5                 0.0  "
      ]
     },
     "execution_count": 2,
     "metadata": {},
     "output_type": "execute_result"
    }
   ],
   "source": [
    "# Importing data\n",
    "\n",
    "train=pd.read_csv('data/cs-training.csv',index_col=0)\n",
    "train.head()"
   ]
  },
  {
   "cell_type": "code",
   "execution_count": 3,
   "id": "683f0bb0",
   "metadata": {},
   "outputs": [
    {
     "data": {
      "text/plain": [
       "Index(['SeriousDlqin2yrs', 'RevolvingUtilizationOfUnsecuredLines', 'age',\n",
       "       'NumberOfTime30-59DaysPastDueNotWorse', 'DebtRatio', 'MonthlyIncome',\n",
       "       'NumberOfOpenCreditLinesAndLoans', 'NumberOfTimes90DaysLate',\n",
       "       'NumberRealEstateLoansOrLines', 'NumberOfTime60-89DaysPastDueNotWorse',\n",
       "       'NumberOfDependents'],\n",
       "      dtype='object')"
      ]
     },
     "execution_count": 3,
     "metadata": {},
     "output_type": "execute_result"
    }
   ],
   "source": [
    "train.columns"
   ]
  },
  {
   "cell_type": "markdown",
   "id": "7172a2fd",
   "metadata": {},
   "source": [
    "So far, we can keep all columns"
   ]
  },
  {
   "cell_type": "code",
   "execution_count": 4,
   "id": "0241a3dc",
   "metadata": {},
   "outputs": [
    {
     "name": "stdout",
     "output_type": "stream",
     "text": [
      "<class 'pandas.core.frame.DataFrame'>\n",
      "Int64Index: 150000 entries, 1 to 150000\n",
      "Data columns (total 11 columns):\n",
      " #   Column                                Non-Null Count   Dtype  \n",
      "---  ------                                --------------   -----  \n",
      " 0   SeriousDlqin2yrs                      150000 non-null  int64  \n",
      " 1   RevolvingUtilizationOfUnsecuredLines  150000 non-null  float64\n",
      " 2   age                                   150000 non-null  int64  \n",
      " 3   NumberOfTime30-59DaysPastDueNotWorse  150000 non-null  int64  \n",
      " 4   DebtRatio                             150000 non-null  float64\n",
      " 5   MonthlyIncome                         120269 non-null  float64\n",
      " 6   NumberOfOpenCreditLinesAndLoans       150000 non-null  int64  \n",
      " 7   NumberOfTimes90DaysLate               150000 non-null  int64  \n",
      " 8   NumberRealEstateLoansOrLines          150000 non-null  int64  \n",
      " 9   NumberOfTime60-89DaysPastDueNotWorse  150000 non-null  int64  \n",
      " 10  NumberOfDependents                    146076 non-null  float64\n",
      "dtypes: float64(4), int64(7)\n",
      "memory usage: 13.7 MB\n"
     ]
    }
   ],
   "source": [
    "train.info()"
   ]
  },
  {
   "cell_type": "code",
   "execution_count": 5,
   "id": "4a44c346",
   "metadata": {},
   "outputs": [
    {
     "data": {
      "text/html": [
       "<div>\n",
       "<style scoped>\n",
       "    .dataframe tbody tr th:only-of-type {\n",
       "        vertical-align: middle;\n",
       "    }\n",
       "\n",
       "    .dataframe tbody tr th {\n",
       "        vertical-align: top;\n",
       "    }\n",
       "\n",
       "    .dataframe thead th {\n",
       "        text-align: right;\n",
       "    }\n",
       "</style>\n",
       "<table border=\"1\" class=\"dataframe\">\n",
       "  <thead>\n",
       "    <tr style=\"text-align: right;\">\n",
       "      <th></th>\n",
       "      <th>Number of Null Values</th>\n",
       "      <th>Ratio</th>\n",
       "    </tr>\n",
       "  </thead>\n",
       "  <tbody>\n",
       "    <tr>\n",
       "      <th>SeriousDlqin2yrs</th>\n",
       "      <td>0</td>\n",
       "      <td>0.000000</td>\n",
       "    </tr>\n",
       "    <tr>\n",
       "      <th>RevolvingUtilizationOfUnsecuredLines</th>\n",
       "      <td>0</td>\n",
       "      <td>0.000000</td>\n",
       "    </tr>\n",
       "    <tr>\n",
       "      <th>age</th>\n",
       "      <td>0</td>\n",
       "      <td>0.000000</td>\n",
       "    </tr>\n",
       "    <tr>\n",
       "      <th>NumberOfTime30-59DaysPastDueNotWorse</th>\n",
       "      <td>0</td>\n",
       "      <td>0.000000</td>\n",
       "    </tr>\n",
       "    <tr>\n",
       "      <th>DebtRatio</th>\n",
       "      <td>0</td>\n",
       "      <td>0.000000</td>\n",
       "    </tr>\n",
       "    <tr>\n",
       "      <th>MonthlyIncome</th>\n",
       "      <td>29731</td>\n",
       "      <td>19.820667</td>\n",
       "    </tr>\n",
       "    <tr>\n",
       "      <th>NumberOfOpenCreditLinesAndLoans</th>\n",
       "      <td>0</td>\n",
       "      <td>0.000000</td>\n",
       "    </tr>\n",
       "    <tr>\n",
       "      <th>NumberOfTimes90DaysLate</th>\n",
       "      <td>0</td>\n",
       "      <td>0.000000</td>\n",
       "    </tr>\n",
       "    <tr>\n",
       "      <th>NumberRealEstateLoansOrLines</th>\n",
       "      <td>0</td>\n",
       "      <td>0.000000</td>\n",
       "    </tr>\n",
       "    <tr>\n",
       "      <th>NumberOfTime60-89DaysPastDueNotWorse</th>\n",
       "      <td>0</td>\n",
       "      <td>0.000000</td>\n",
       "    </tr>\n",
       "    <tr>\n",
       "      <th>NumberOfDependents</th>\n",
       "      <td>3924</td>\n",
       "      <td>2.616000</td>\n",
       "    </tr>\n",
       "  </tbody>\n",
       "</table>\n",
       "</div>"
      ],
      "text/plain": [
       "                                      Number of Null Values      Ratio\n",
       "SeriousDlqin2yrs                                          0   0.000000\n",
       "RevolvingUtilizationOfUnsecuredLines                      0   0.000000\n",
       "age                                                       0   0.000000\n",
       "NumberOfTime30-59DaysPastDueNotWorse                      0   0.000000\n",
       "DebtRatio                                                 0   0.000000\n",
       "MonthlyIncome                                         29731  19.820667\n",
       "NumberOfOpenCreditLinesAndLoans                           0   0.000000\n",
       "NumberOfTimes90DaysLate                                   0   0.000000\n",
       "NumberRealEstateLoansOrLines                              0   0.000000\n",
       "NumberOfTime60-89DaysPastDueNotWorse                      0   0.000000\n",
       "NumberOfDependents                                     3924   2.616000"
      ]
     },
     "execution_count": 5,
     "metadata": {},
     "output_type": "execute_result"
    }
   ],
   "source": [
    "# Let's see if we have any null values\n",
    "\n",
    "pd.DataFrame({'Number of Null Values':train.isnull().sum(),'Ratio':train.isnull().sum()\n",
    "             /len(train)*100})"
   ]
  },
  {
   "cell_type": "markdown",
   "id": "eb7c8c13",
   "metadata": {},
   "source": [
    "There is 19.82% null values for Monthly Income and 2.6% null values for Number of Dependents."
   ]
  },
  {
   "cell_type": "markdown",
   "id": "1ac05d52",
   "metadata": {},
   "source": [
    "Let's first analyze the null values for Monthly Income."
   ]
  },
  {
   "cell_type": "code",
   "execution_count": 6,
   "id": "68aa7dc5",
   "metadata": {},
   "outputs": [],
   "source": [
    "# Comparing values for data where Monthly Income is null vs not null to see what to do with\n",
    "# these values\n",
    "\n",
    "monthly_income_null= train[train['MonthlyIncome'].isnull()]\n",
    "monthly_income_not_null=train[train['MonthlyIncome'].notnull()]"
   ]
  },
  {
   "cell_type": "code",
   "execution_count": 7,
   "id": "2d68412d",
   "metadata": {},
   "outputs": [
    {
     "name": "stdout",
     "output_type": "stream",
     "text": [
      "['SeriousDlqin2yrs']\n",
      "       MonthlyIncomeNull  MonthlyIncomeNotNull\n",
      "count       29731.000000         120269.000000\n",
      "mean            0.056137              0.069486\n",
      "std             0.230189              0.254280\n",
      "min             0.000000              0.000000\n",
      "25%             0.000000              0.000000\n",
      "50%             0.000000              0.000000\n",
      "75%             0.000000              0.000000\n",
      "max             1.000000              1.000000\n",
      "['RevolvingUtilizationOfUnsecuredLines']\n",
      "       MonthlyIncomeNull  MonthlyIncomeNotNull\n",
      "count       29731.000000         120269.000000\n",
      "mean            6.649421              5.899873\n",
      "std           217.814854            257.040685\n",
      "min             0.000000              0.000000\n",
      "25%             0.016027              0.035084\n",
      "50%             0.081697              0.177282\n",
      "75%             0.440549              0.579428\n",
      "max         22198.000000          50708.000000\n",
      "['age']\n",
      "       MonthlyIncomeNull  MonthlyIncomeNotNull\n",
      "count       29731.000000         120269.000000\n",
      "mean           56.362349             51.289792\n",
      "std            15.438786             14.426684\n",
      "min            21.000000              0.000000\n",
      "25%            46.000000             40.000000\n",
      "50%            57.000000             51.000000\n",
      "75%            67.000000             61.000000\n",
      "max           109.000000            103.000000\n",
      "['NumberOfTime30-59DaysPastDueNotWorse']\n",
      "       MonthlyIncomeNull  MonthlyIncomeNotNull\n",
      "count       29731.000000         120269.000000\n",
      "mean            0.579866              0.381769\n",
      "std             6.255361              3.499234\n",
      "min             0.000000              0.000000\n",
      "25%             0.000000              0.000000\n",
      "50%             0.000000              0.000000\n",
      "75%             0.000000              0.000000\n",
      "max            98.000000             98.000000\n",
      "['DebtRatio']\n",
      "       MonthlyIncomeNull  MonthlyIncomeNotNull\n",
      "count       29731.000000         120269.000000\n",
      "mean         1673.396556             26.598777\n",
      "std          4248.372895            424.446457\n",
      "min             0.000000              0.000000\n",
      "25%           123.000000              0.143388\n",
      "50%          1159.000000              0.296023\n",
      "75%          2382.000000              0.482559\n",
      "max        329664.000000          61106.500000\n",
      "['MonthlyIncome']\n",
      "       MonthlyIncomeNull  MonthlyIncomeNotNull\n",
      "count                0.0          1.202690e+05\n",
      "mean                 NaN          6.670221e+03\n",
      "std                  NaN          1.438467e+04\n",
      "min                  NaN          0.000000e+00\n",
      "25%                  NaN          3.400000e+03\n",
      "50%                  NaN          5.400000e+03\n",
      "75%                  NaN          8.249000e+03\n",
      "max                  NaN          3.008750e+06\n",
      "['NumberOfOpenCreditLinesAndLoans']\n",
      "       MonthlyIncomeNull  MonthlyIncomeNotNull\n",
      "count       29731.000000         120269.000000\n",
      "mean            7.216071              8.758475\n",
      "std             4.842720              5.172835\n",
      "min             0.000000              0.000000\n",
      "25%             4.000000              5.000000\n",
      "50%             6.000000              8.000000\n",
      "75%            10.000000             11.000000\n",
      "max            45.000000             58.000000\n",
      "['NumberOfTimes90DaysLate']\n",
      "       MonthlyIncomeNull  MonthlyIncomeNotNull\n",
      "count       29731.000000         120269.000000\n",
      "mean            0.484612              0.211925\n",
      "std             6.250408              3.465276\n",
      "min             0.000000              0.000000\n",
      "25%             0.000000              0.000000\n",
      "50%             0.000000              0.000000\n",
      "75%             0.000000              0.000000\n",
      "max            98.000000             98.000000\n",
      "['NumberRealEstateLoansOrLines']\n",
      "       MonthlyIncomeNull  MonthlyIncomeNotNull\n",
      "count       29731.000000         120269.000000\n",
      "mean            0.871481              1.054519\n",
      "std             1.034291              1.149273\n",
      "min             0.000000              0.000000\n",
      "25%             0.000000              0.000000\n",
      "50%             1.000000              1.000000\n",
      "75%             1.000000              2.000000\n",
      "max            23.000000             54.000000\n",
      "['NumberOfTime60-89DaysPastDueNotWorse']\n",
      "       MonthlyIncomeNull  MonthlyIncomeNotNull\n",
      "count       29731.000000         120269.000000\n",
      "mean            0.452995              0.187829\n",
      "std             6.242076              3.447901\n",
      "min             0.000000              0.000000\n",
      "25%             0.000000              0.000000\n",
      "50%             0.000000              0.000000\n",
      "75%             0.000000              0.000000\n",
      "max            98.000000             98.000000\n",
      "['NumberOfDependents']\n",
      "       MonthlyIncomeNull  MonthlyIncomeNotNull\n",
      "count       25807.000000         120269.000000\n",
      "mean            0.316310              0.851832\n",
      "std             0.809944              1.148391\n",
      "min             0.000000              0.000000\n",
      "25%             0.000000              0.000000\n",
      "50%             0.000000              0.000000\n",
      "75%             0.000000              2.000000\n",
      "max             9.000000             20.000000\n"
     ]
    }
   ],
   "source": [
    "for i in train.columns:\n",
    "    print([i])\n",
    "    print(pd.DataFrame({'MonthlyIncomeNull': monthly_income_null[i].describe(),\n",
    "                 'MonthlyIncomeNotNull': monthly_income_not_null[i].describe()}))"
   ]
  },
  {
   "cell_type": "markdown",
   "id": "18e8e9da",
   "metadata": {},
   "source": [
    "The main concerning thing from this comparison, is the difference in Debt Ratio where the data where monthly income is null has a mean of 1673 meaning that they have 1673 times more debt than their monthly income which is really concerning.\n",
    "\n",
    "The data where monthly income is not null has a mean of 26 which is much more reasonable. \n",
    "\n",
    "This could potentially be a data error because it seems unreasonable that while on average they have 1673 times more debt than income, they have a lower average delinquent rate(0.56 vs 0.069)\n",
    "\n",
    "Let's look at this more closely"
   ]
  },
  {
   "cell_type": "code",
   "execution_count": 8,
   "id": "02dafc2d",
   "metadata": {},
   "outputs": [
    {
     "data": {
      "text/plain": [
       "0.975    3489.025\n",
       "Name: DebtRatio, dtype: float64"
      ]
     },
     "execution_count": 8,
     "metadata": {},
     "output_type": "execute_result"
    }
   ],
   "source": [
    "train['DebtRatio'].quantile([.975])"
   ]
  },
  {
   "cell_type": "code",
   "execution_count": 9,
   "id": "8387d2ee",
   "metadata": {},
   "outputs": [
    {
     "data": {
      "text/html": [
       "<div>\n",
       "<style scoped>\n",
       "    .dataframe tbody tr th:only-of-type {\n",
       "        vertical-align: middle;\n",
       "    }\n",
       "\n",
       "    .dataframe tbody tr th {\n",
       "        vertical-align: top;\n",
       "    }\n",
       "\n",
       "    .dataframe thead th {\n",
       "        text-align: right;\n",
       "    }\n",
       "</style>\n",
       "<table border=\"1\" class=\"dataframe\">\n",
       "  <thead>\n",
       "    <tr style=\"text-align: right;\">\n",
       "      <th></th>\n",
       "      <th>SeriousDlqin2yrs</th>\n",
       "      <th>MonthlyIncome</th>\n",
       "    </tr>\n",
       "  </thead>\n",
       "  <tbody>\n",
       "    <tr>\n",
       "      <th>count</th>\n",
       "      <td>3750.000000</td>\n",
       "      <td>185.000000</td>\n",
       "    </tr>\n",
       "    <tr>\n",
       "      <th>mean</th>\n",
       "      <td>0.064267</td>\n",
       "      <td>0.064865</td>\n",
       "    </tr>\n",
       "    <tr>\n",
       "      <th>std</th>\n",
       "      <td>0.245260</td>\n",
       "      <td>0.246956</td>\n",
       "    </tr>\n",
       "    <tr>\n",
       "      <th>min</th>\n",
       "      <td>0.000000</td>\n",
       "      <td>0.000000</td>\n",
       "    </tr>\n",
       "    <tr>\n",
       "      <th>25%</th>\n",
       "      <td>0.000000</td>\n",
       "      <td>0.000000</td>\n",
       "    </tr>\n",
       "    <tr>\n",
       "      <th>50%</th>\n",
       "      <td>0.000000</td>\n",
       "      <td>0.000000</td>\n",
       "    </tr>\n",
       "    <tr>\n",
       "      <th>75%</th>\n",
       "      <td>0.000000</td>\n",
       "      <td>0.000000</td>\n",
       "    </tr>\n",
       "    <tr>\n",
       "      <th>max</th>\n",
       "      <td>1.000000</td>\n",
       "      <td>1.000000</td>\n",
       "    </tr>\n",
       "  </tbody>\n",
       "</table>\n",
       "</div>"
      ],
      "text/plain": [
       "       SeriousDlqin2yrs  MonthlyIncome\n",
       "count       3750.000000     185.000000\n",
       "mean           0.064267       0.064865\n",
       "std            0.245260       0.246956\n",
       "min            0.000000       0.000000\n",
       "25%            0.000000       0.000000\n",
       "50%            0.000000       0.000000\n",
       "75%            0.000000       0.000000\n",
       "max            1.000000       1.000000"
      ]
     },
     "execution_count": 9,
     "metadata": {},
     "output_type": "execute_result"
    }
   ],
   "source": [
    "train[train['DebtRatio']>3489.025][['SeriousDlqin2yrs','MonthlyIncome']].describe()"
   ]
  },
  {
   "cell_type": "markdown",
   "id": "7c7271bd",
   "metadata": {},
   "source": [
    "This is very concerning. Out of around 4000 records with DebtRatio >3489, only 185 have a value for MonthlyIncome. Further, out of the ones that do have monthly income, the average is 0.06 and similar to the mean of deliquency which means that this is probably due to a data entry error. \n",
    "\n",
    "In addition, the mean deliquency of these people with Debt Ratio >3489 is about the same as the average deliquency, which doesn't make sense.\n",
    "\n",
    "Therefore we will remove all data where the DebtRatio is over 3489.025"
   ]
  },
  {
   "cell_type": "code",
   "execution_count": 10,
   "id": "00424e8e",
   "metadata": {},
   "outputs": [],
   "source": [
    "# Dropping DebtRatio outliers\n",
    "\n",
    "train= train[train['DebtRatio']<3489.025]"
   ]
  },
  {
   "cell_type": "code",
   "execution_count": 11,
   "id": "1f05a26a",
   "metadata": {},
   "outputs": [
    {
     "data": {
      "text/plain": [
       "count    146250.000000\n",
       "mean        210.326026\n",
       "std         620.473755\n",
       "min           0.000000\n",
       "25%           0.169896\n",
       "50%           0.355985\n",
       "75%           0.757884\n",
       "max        3489.000000\n",
       "Name: DebtRatio, dtype: float64"
      ]
     },
     "execution_count": 11,
     "metadata": {},
     "output_type": "execute_result"
    }
   ],
   "source": [
    "train['DebtRatio'].describe()"
   ]
  },
  {
   "cell_type": "code",
   "execution_count": 12,
   "id": "7f4c657a",
   "metadata": {},
   "outputs": [
    {
     "data": {
      "text/html": [
       "<div>\n",
       "<style scoped>\n",
       "    .dataframe tbody tr th:only-of-type {\n",
       "        vertical-align: middle;\n",
       "    }\n",
       "\n",
       "    .dataframe tbody tr th {\n",
       "        vertical-align: top;\n",
       "    }\n",
       "\n",
       "    .dataframe thead th {\n",
       "        text-align: right;\n",
       "    }\n",
       "</style>\n",
       "<table border=\"1\" class=\"dataframe\">\n",
       "  <thead>\n",
       "    <tr style=\"text-align: right;\">\n",
       "      <th></th>\n",
       "      <th>SeriousDlqin2yrs</th>\n",
       "      <th>RevolvingUtilizationOfUnsecuredLines</th>\n",
       "      <th>age</th>\n",
       "      <th>NumberOfTime30-59DaysPastDueNotWorse</th>\n",
       "      <th>DebtRatio</th>\n",
       "      <th>MonthlyIncome</th>\n",
       "      <th>NumberOfOpenCreditLinesAndLoans</th>\n",
       "      <th>NumberOfTimes90DaysLate</th>\n",
       "      <th>NumberRealEstateLoansOrLines</th>\n",
       "      <th>NumberOfTime60-89DaysPastDueNotWorse</th>\n",
       "      <th>NumberOfDependents</th>\n",
       "    </tr>\n",
       "  </thead>\n",
       "  <tbody>\n",
       "    <tr>\n",
       "      <th>1</th>\n",
       "      <td>1</td>\n",
       "      <td>0.766127</td>\n",
       "      <td>45</td>\n",
       "      <td>2</td>\n",
       "      <td>0.802982</td>\n",
       "      <td>9120.0</td>\n",
       "      <td>13</td>\n",
       "      <td>0</td>\n",
       "      <td>6</td>\n",
       "      <td>0</td>\n",
       "      <td>2.0</td>\n",
       "    </tr>\n",
       "    <tr>\n",
       "      <th>2</th>\n",
       "      <td>0</td>\n",
       "      <td>0.957151</td>\n",
       "      <td>40</td>\n",
       "      <td>0</td>\n",
       "      <td>0.121876</td>\n",
       "      <td>2600.0</td>\n",
       "      <td>4</td>\n",
       "      <td>0</td>\n",
       "      <td>0</td>\n",
       "      <td>0</td>\n",
       "      <td>1.0</td>\n",
       "    </tr>\n",
       "    <tr>\n",
       "      <th>3</th>\n",
       "      <td>0</td>\n",
       "      <td>0.658180</td>\n",
       "      <td>38</td>\n",
       "      <td>1</td>\n",
       "      <td>0.085113</td>\n",
       "      <td>3042.0</td>\n",
       "      <td>2</td>\n",
       "      <td>1</td>\n",
       "      <td>0</td>\n",
       "      <td>0</td>\n",
       "      <td>0.0</td>\n",
       "    </tr>\n",
       "    <tr>\n",
       "      <th>4</th>\n",
       "      <td>0</td>\n",
       "      <td>0.233810</td>\n",
       "      <td>30</td>\n",
       "      <td>0</td>\n",
       "      <td>0.036050</td>\n",
       "      <td>3300.0</td>\n",
       "      <td>5</td>\n",
       "      <td>0</td>\n",
       "      <td>0</td>\n",
       "      <td>0</td>\n",
       "      <td>0.0</td>\n",
       "    </tr>\n",
       "    <tr>\n",
       "      <th>5</th>\n",
       "      <td>0</td>\n",
       "      <td>0.907239</td>\n",
       "      <td>49</td>\n",
       "      <td>1</td>\n",
       "      <td>0.024926</td>\n",
       "      <td>63588.0</td>\n",
       "      <td>7</td>\n",
       "      <td>0</td>\n",
       "      <td>1</td>\n",
       "      <td>0</td>\n",
       "      <td>0.0</td>\n",
       "    </tr>\n",
       "  </tbody>\n",
       "</table>\n",
       "</div>"
      ],
      "text/plain": [
       "   SeriousDlqin2yrs  RevolvingUtilizationOfUnsecuredLines  age  \\\n",
       "1                 1                              0.766127   45   \n",
       "2                 0                              0.957151   40   \n",
       "3                 0                              0.658180   38   \n",
       "4                 0                              0.233810   30   \n",
       "5                 0                              0.907239   49   \n",
       "\n",
       "   NumberOfTime30-59DaysPastDueNotWorse  DebtRatio  MonthlyIncome  \\\n",
       "1                                     2   0.802982         9120.0   \n",
       "2                                     0   0.121876         2600.0   \n",
       "3                                     1   0.085113         3042.0   \n",
       "4                                     0   0.036050         3300.0   \n",
       "5                                     1   0.024926        63588.0   \n",
       "\n",
       "   NumberOfOpenCreditLinesAndLoans  NumberOfTimes90DaysLate  \\\n",
       "1                               13                        0   \n",
       "2                                4                        0   \n",
       "3                                2                        1   \n",
       "4                                5                        0   \n",
       "5                                7                        0   \n",
       "\n",
       "   NumberRealEstateLoansOrLines  NumberOfTime60-89DaysPastDueNotWorse  \\\n",
       "1                             6                                     0   \n",
       "2                             0                                     0   \n",
       "3                             0                                     0   \n",
       "4                             0                                     0   \n",
       "5                             1                                     0   \n",
       "\n",
       "   NumberOfDependents  \n",
       "1                 2.0  \n",
       "2                 1.0  \n",
       "3                 0.0  \n",
       "4                 0.0  \n",
       "5                 0.0  "
      ]
     },
     "execution_count": 12,
     "metadata": {},
     "output_type": "execute_result"
    }
   ],
   "source": [
    "train.head()"
   ]
  },
  {
   "cell_type": "code",
   "execution_count": 13,
   "id": "256c7cf8",
   "metadata": {},
   "outputs": [
    {
     "data": {
      "text/plain": [
       "SeriousDlqin2yrs                            0\n",
       "RevolvingUtilizationOfUnsecuredLines        0\n",
       "age                                         0\n",
       "NumberOfTime30-59DaysPastDueNotWorse        0\n",
       "DebtRatio                                   0\n",
       "MonthlyIncome                           26166\n",
       "NumberOfOpenCreditLinesAndLoans             0\n",
       "NumberOfTimes90DaysLate                     0\n",
       "NumberRealEstateLoansOrLines                0\n",
       "NumberOfTime60-89DaysPastDueNotWorse        0\n",
       "NumberOfDependents                       3694\n",
       "dtype: int64"
      ]
     },
     "execution_count": 13,
     "metadata": {},
     "output_type": "execute_result"
    }
   ],
   "source": [
    "train.isnull().sum()"
   ]
  },
  {
   "cell_type": "markdown",
   "id": "47fcd3cb",
   "metadata": {},
   "source": [
    "For the rest of the null values, I will impute by doing the following:\n",
    "\n",
    "- Identify the column that is highest correlated with the column that has null values\n",
    "- Group the values in that correlated column into a few buckets\n",
    "- Make a dataframe for each bucket and find the mean value for the column with null values in that bucket\n",
    "- Fill in the missing values with the mean for each bucket.\n",
    "- Concatanate\n",
    "\n"
   ]
  },
  {
   "cell_type": "code",
   "execution_count": 14,
   "id": "7896d78a",
   "metadata": {},
   "outputs": [
    {
     "data": {
      "text/plain": [
       "SeriousDlqin2yrs                       -0.019762\n",
       "RevolvingUtilizationOfUnsecuredLines    0.007110\n",
       "age                                     0.037724\n",
       "NumberOfTime30-59DaysPastDueNotWorse   -0.010237\n",
       "DebtRatio                              -0.043272\n",
       "MonthlyIncome                           1.000000\n",
       "NumberOfOpenCreditLinesAndLoans         0.091866\n",
       "NumberOfTimes90DaysLate                -0.012766\n",
       "NumberRealEstateLoansOrLines            0.125703\n",
       "NumberOfTime60-89DaysPastDueNotWorse   -0.011140\n",
       "NumberOfDependents                      0.062974\n",
       "Name: MonthlyIncome, dtype: float64"
      ]
     },
     "execution_count": 14,
     "metadata": {},
     "output_type": "execute_result"
    }
   ],
   "source": [
    "# Impute missing values for MonthlyIncome\n",
    "\n",
    "train[train.columns[0:]].corr()['MonthlyIncome']"
   ]
  },
  {
   "cell_type": "markdown",
   "id": "ceaa4ad6",
   "metadata": {},
   "source": [
    "Monthly Income is most correlated to NumberRealEstateLoansorLines."
   ]
  },
  {
   "cell_type": "code",
   "execution_count": 15,
   "id": "ce5e5679",
   "metadata": {},
   "outputs": [
    {
     "data": {
      "text/plain": [
       "0     56147\n",
       "1     51392\n",
       "2     29895\n",
       "3      5662\n",
       "4      1884\n",
       "5       592\n",
       "6       283\n",
       "7       141\n",
       "8        78\n",
       "9        63\n",
       "10       33\n",
       "12       17\n",
       "11       16\n",
       "13       14\n",
       "14        7\n",
       "15        5\n",
       "16        4\n",
       "17        3\n",
       "25        3\n",
       "19        2\n",
       "20        2\n",
       "54        1\n",
       "21        1\n",
       "18        1\n",
       "26        1\n",
       "23        1\n",
       "29        1\n",
       "32        1\n",
       "Name: NumberRealEstateLoansOrLines, dtype: int64"
      ]
     },
     "execution_count": 15,
     "metadata": {},
     "output_type": "execute_result"
    }
   ],
   "source": [
    "train['NumberRealEstateLoansOrLines'].value_counts()"
   ]
  },
  {
   "cell_type": "code",
   "execution_count": 16,
   "id": "8834a979",
   "metadata": {},
   "outputs": [
    {
     "name": "stderr",
     "output_type": "stream",
     "text": [
      "/Users/felixinoue/opt/anaconda3/envs/smartpay/lib/python3.9/site-packages/pandas/core/generic.py:6392: SettingWithCopyWarning: \n",
      "A value is trying to be set on a copy of a slice from a DataFrame\n",
      "\n",
      "See the caveats in the documentation: https://pandas.pydata.org/pandas-docs/stable/user_guide/indexing.html#returning-a-view-versus-a-copy\n",
      "  return self._update_inplace(result)\n"
     ]
    }
   ],
   "source": [
    "frames=[]\n",
    "for i in train['NumberRealEstateLoansOrLines'].unique():\n",
    "    df_cat=train[train['NumberRealEstateLoansOrLines']== i]\n",
    "    if len(df_cat)>1:\n",
    "        df_cat['MonthlyIncome'].fillna(df_cat['MonthlyIncome'].mean(),inplace=True)\n",
    "    else:\n",
    "        df_cat['MonthlyIncome'].fillna(train['MonthlyIncome'].mean(),inplace=True)\n",
    "    frames.append(df_cat)\n",
    "    train_impute_income=pd.concat(frames)\n",
    "    "
   ]
  },
  {
   "cell_type": "code",
   "execution_count": 17,
   "id": "3825a202",
   "metadata": {},
   "outputs": [
    {
     "data": {
      "text/plain": [
       "SeriousDlqin2yrs                           0\n",
       "RevolvingUtilizationOfUnsecuredLines       0\n",
       "age                                        0\n",
       "NumberOfTime30-59DaysPastDueNotWorse       0\n",
       "DebtRatio                                  0\n",
       "MonthlyIncome                              0\n",
       "NumberOfOpenCreditLinesAndLoans            0\n",
       "NumberOfTimes90DaysLate                    0\n",
       "NumberRealEstateLoansOrLines               0\n",
       "NumberOfTime60-89DaysPastDueNotWorse       0\n",
       "NumberOfDependents                      3694\n",
       "dtype: int64"
      ]
     },
     "execution_count": 17,
     "metadata": {},
     "output_type": "execute_result"
    }
   ],
   "source": [
    "train_impute_income.isnull().sum()"
   ]
  },
  {
   "cell_type": "code",
   "execution_count": 18,
   "id": "b133b5ae",
   "metadata": {},
   "outputs": [
    {
     "data": {
      "text/plain": [
       "SeriousDlqin2yrs                        0.047300\n",
       "RevolvingUtilizationOfUnsecuredLines    0.001896\n",
       "age                                    -0.213909\n",
       "NumberOfTime30-59DaysPastDueNotWorse   -0.002835\n",
       "DebtRatio                              -0.092878\n",
       "MonthlyIncome                           0.063482\n",
       "NumberOfOpenCreditLinesAndLoans         0.068932\n",
       "NumberOfTimes90DaysLate                -0.010454\n",
       "NumberRealEstateLoansOrLines            0.136602\n",
       "NumberOfTime60-89DaysPastDueNotWorse   -0.011247\n",
       "NumberOfDependents                      1.000000\n",
       "Name: NumberOfDependents, dtype: float64"
      ]
     },
     "execution_count": 18,
     "metadata": {},
     "output_type": "execute_result"
    }
   ],
   "source": [
    "# Impute missing values for Number of Dependents\n",
    "\n",
    "train_impute_income[train_impute_income.columns[0:]].corr()['NumberOfDependents']"
   ]
  },
  {
   "cell_type": "markdown",
   "id": "06d19d7f",
   "metadata": {},
   "source": [
    "Age is most correlated with Number of Dependents."
   ]
  },
  {
   "cell_type": "code",
   "execution_count": 19,
   "id": "99693d3e",
   "metadata": {},
   "outputs": [
    {
     "data": {
      "text/plain": [
       "49     3725\n",
       "48     3657\n",
       "50     3653\n",
       "46     3594\n",
       "47     3592\n",
       "       ... \n",
       "102       3\n",
       "109       2\n",
       "105       1\n",
       "107       1\n",
       "0         1\n",
       "Name: age, Length: 86, dtype: int64"
      ]
     },
     "execution_count": 19,
     "metadata": {},
     "output_type": "execute_result"
    }
   ],
   "source": [
    "train_impute_income['age'].value_counts()"
   ]
  },
  {
   "cell_type": "code",
   "execution_count": 20,
   "id": "2ebc504e",
   "metadata": {},
   "outputs": [],
   "source": [
    "frames=[]\n",
    "for i in train_impute_income['age'].unique():\n",
    "    df_cat=train_impute_income[train_impute_income['age']==i]\n",
    "    if len(df_cat)>2:\n",
    "        df_cat['NumberOfDependents'].fillna(df_cat['NumberOfDependents'].median(),inplace=True)\n",
    "    else:\n",
    "        df_cat['NumberOfDependents'].fillna(train_impute_income['NumberOfDependents'].median(),inplace=True)\n",
    "    frames.append(df_cat)\n",
    "    train_new=pd.concat(frames)"
   ]
  },
  {
   "cell_type": "code",
   "execution_count": 21,
   "id": "e49fece4",
   "metadata": {},
   "outputs": [
    {
     "data": {
      "text/plain": [
       "SeriousDlqin2yrs                        0\n",
       "RevolvingUtilizationOfUnsecuredLines    0\n",
       "age                                     0\n",
       "NumberOfTime30-59DaysPastDueNotWorse    0\n",
       "DebtRatio                               0\n",
       "MonthlyIncome                           0\n",
       "NumberOfOpenCreditLinesAndLoans         0\n",
       "NumberOfTimes90DaysLate                 0\n",
       "NumberRealEstateLoansOrLines            0\n",
       "NumberOfTime60-89DaysPastDueNotWorse    0\n",
       "NumberOfDependents                      0\n",
       "dtype: int64"
      ]
     },
     "execution_count": 21,
     "metadata": {},
     "output_type": "execute_result"
    }
   ],
   "source": [
    "train_new.isnull().sum()"
   ]
  },
  {
   "cell_type": "markdown",
   "id": "2b7e26d1",
   "metadata": {},
   "source": [
    "Cool, now we have no missing values."
   ]
  },
  {
   "cell_type": "markdown",
   "id": "cb376e78",
   "metadata": {},
   "source": [
    "Now let's see if we have any duplicate values."
   ]
  },
  {
   "cell_type": "code",
   "execution_count": 30,
   "id": "2a24d28b",
   "metadata": {},
   "outputs": [
    {
     "data": {
      "text/plain": [
       "754"
      ]
     },
     "execution_count": 30,
     "metadata": {},
     "output_type": "execute_result"
    }
   ],
   "source": [
    "train_new.duplicated().sum()"
   ]
  },
  {
   "cell_type": "code",
   "execution_count": 32,
   "id": "35172331",
   "metadata": {},
   "outputs": [
    {
     "data": {
      "text/plain": [
       "0"
      ]
     },
     "execution_count": 32,
     "metadata": {},
     "output_type": "execute_result"
    }
   ],
   "source": [
    "# Removing the duplicates\n",
    "\n",
    "train_new.drop_duplicates(inplace=True)\n",
    "\n",
    "# Checking if we still have duplicates\n",
    "\n",
    "train_new.duplicated().sum()"
   ]
  },
  {
   "cell_type": "code",
   "execution_count": 35,
   "id": "3b858005",
   "metadata": {},
   "outputs": [
    {
     "data": {
      "text/html": [
       "<div>\n",
       "<style scoped>\n",
       "    .dataframe tbody tr th:only-of-type {\n",
       "        vertical-align: middle;\n",
       "    }\n",
       "\n",
       "    .dataframe tbody tr th {\n",
       "        vertical-align: top;\n",
       "    }\n",
       "\n",
       "    .dataframe thead th {\n",
       "        text-align: right;\n",
       "    }\n",
       "</style>\n",
       "<table border=\"1\" class=\"dataframe\">\n",
       "  <thead>\n",
       "    <tr style=\"text-align: right;\">\n",
       "      <th></th>\n",
       "      <th>SeriousDlqin2yrs</th>\n",
       "      <th>RevolvingUtilizationOfUnsecuredLines</th>\n",
       "      <th>age</th>\n",
       "      <th>NumberOfTime30-59DaysPastDueNotWorse</th>\n",
       "      <th>DebtRatio</th>\n",
       "      <th>MonthlyIncome</th>\n",
       "      <th>NumberOfOpenCreditLinesAndLoans</th>\n",
       "      <th>NumberOfTimes90DaysLate</th>\n",
       "      <th>NumberRealEstateLoansOrLines</th>\n",
       "      <th>NumberOfTime60-89DaysPastDueNotWorse</th>\n",
       "      <th>NumberOfDependents</th>\n",
       "    </tr>\n",
       "  </thead>\n",
       "  <tbody>\n",
       "    <tr>\n",
       "      <th>1</th>\n",
       "      <td>1</td>\n",
       "      <td>0.766127</td>\n",
       "      <td>45</td>\n",
       "      <td>2</td>\n",
       "      <td>0.802982</td>\n",
       "      <td>9120.0</td>\n",
       "      <td>13</td>\n",
       "      <td>0</td>\n",
       "      <td>6</td>\n",
       "      <td>0</td>\n",
       "      <td>2.0</td>\n",
       "    </tr>\n",
       "    <tr>\n",
       "      <th>6185</th>\n",
       "      <td>0</td>\n",
       "      <td>0.155932</td>\n",
       "      <td>45</td>\n",
       "      <td>0</td>\n",
       "      <td>1.186438</td>\n",
       "      <td>6650.0</td>\n",
       "      <td>20</td>\n",
       "      <td>0</td>\n",
       "      <td>6</td>\n",
       "      <td>0</td>\n",
       "      <td>2.0</td>\n",
       "    </tr>\n",
       "    <tr>\n",
       "      <th>15458</th>\n",
       "      <td>0</td>\n",
       "      <td>0.039168</td>\n",
       "      <td>45</td>\n",
       "      <td>0</td>\n",
       "      <td>1.007399</td>\n",
       "      <td>5000.0</td>\n",
       "      <td>17</td>\n",
       "      <td>0</td>\n",
       "      <td>6</td>\n",
       "      <td>0</td>\n",
       "      <td>3.0</td>\n",
       "    </tr>\n",
       "    <tr>\n",
       "      <th>40153</th>\n",
       "      <td>0</td>\n",
       "      <td>0.145135</td>\n",
       "      <td>45</td>\n",
       "      <td>0</td>\n",
       "      <td>0.587821</td>\n",
       "      <td>32366.0</td>\n",
       "      <td>12</td>\n",
       "      <td>0</td>\n",
       "      <td>6</td>\n",
       "      <td>0</td>\n",
       "      <td>3.0</td>\n",
       "    </tr>\n",
       "    <tr>\n",
       "      <th>57864</th>\n",
       "      <td>0</td>\n",
       "      <td>0.221642</td>\n",
       "      <td>45</td>\n",
       "      <td>0</td>\n",
       "      <td>0.504239</td>\n",
       "      <td>13800.0</td>\n",
       "      <td>14</td>\n",
       "      <td>0</td>\n",
       "      <td>6</td>\n",
       "      <td>0</td>\n",
       "      <td>0.0</td>\n",
       "    </tr>\n",
       "  </tbody>\n",
       "</table>\n",
       "</div>"
      ],
      "text/plain": [
       "       SeriousDlqin2yrs  RevolvingUtilizationOfUnsecuredLines  age  \\\n",
       "1                     1                              0.766127   45   \n",
       "6185                  0                              0.155932   45   \n",
       "15458                 0                              0.039168   45   \n",
       "40153                 0                              0.145135   45   \n",
       "57864                 0                              0.221642   45   \n",
       "\n",
       "       NumberOfTime30-59DaysPastDueNotWorse  DebtRatio  MonthlyIncome  \\\n",
       "1                                         2   0.802982         9120.0   \n",
       "6185                                      0   1.186438         6650.0   \n",
       "15458                                     0   1.007399         5000.0   \n",
       "40153                                     0   0.587821        32366.0   \n",
       "57864                                     0   0.504239        13800.0   \n",
       "\n",
       "       NumberOfOpenCreditLinesAndLoans  NumberOfTimes90DaysLate  \\\n",
       "1                                   13                        0   \n",
       "6185                                20                        0   \n",
       "15458                               17                        0   \n",
       "40153                               12                        0   \n",
       "57864                               14                        0   \n",
       "\n",
       "       NumberRealEstateLoansOrLines  NumberOfTime60-89DaysPastDueNotWorse  \\\n",
       "1                                 6                                     0   \n",
       "6185                              6                                     0   \n",
       "15458                             6                                     0   \n",
       "40153                             6                                     0   \n",
       "57864                             6                                     0   \n",
       "\n",
       "       NumberOfDependents  \n",
       "1                     2.0  \n",
       "6185                  2.0  \n",
       "15458                 3.0  \n",
       "40153                 3.0  \n",
       "57864                 0.0  "
      ]
     },
     "execution_count": 35,
     "metadata": {},
     "output_type": "execute_result"
    }
   ],
   "source": [
    "train_new.head()"
   ]
  },
  {
   "cell_type": "code",
   "execution_count": 36,
   "id": "99f56bc7",
   "metadata": {},
   "outputs": [
    {
     "data": {
      "text/html": [
       "<div>\n",
       "<style scoped>\n",
       "    .dataframe tbody tr th:only-of-type {\n",
       "        vertical-align: middle;\n",
       "    }\n",
       "\n",
       "    .dataframe tbody tr th {\n",
       "        vertical-align: top;\n",
       "    }\n",
       "\n",
       "    .dataframe thead th {\n",
       "        text-align: right;\n",
       "    }\n",
       "</style>\n",
       "<table border=\"1\" class=\"dataframe\">\n",
       "  <thead>\n",
       "    <tr style=\"text-align: right;\">\n",
       "      <th></th>\n",
       "      <th>SeriousDlqin2yrs</th>\n",
       "      <th>RevolvingUtilizationOfUnsecuredLines</th>\n",
       "      <th>age</th>\n",
       "      <th>NumberOfTime30-59DaysPastDueNotWorse</th>\n",
       "      <th>DebtRatio</th>\n",
       "      <th>MonthlyIncome</th>\n",
       "      <th>NumberOfOpenCreditLinesAndLoans</th>\n",
       "      <th>NumberOfTimes90DaysLate</th>\n",
       "      <th>NumberRealEstateLoansOrLines</th>\n",
       "      <th>NumberOfTime60-89DaysPastDueNotWorse</th>\n",
       "      <th>NumberOfDependents</th>\n",
       "    </tr>\n",
       "  </thead>\n",
       "  <tbody>\n",
       "    <tr>\n",
       "      <th>1</th>\n",
       "      <td>1</td>\n",
       "      <td>0.77</td>\n",
       "      <td>45</td>\n",
       "      <td>2</td>\n",
       "      <td>0.80</td>\n",
       "      <td>9120.0</td>\n",
       "      <td>13</td>\n",
       "      <td>0</td>\n",
       "      <td>6</td>\n",
       "      <td>0</td>\n",
       "      <td>2.0</td>\n",
       "    </tr>\n",
       "    <tr>\n",
       "      <th>6185</th>\n",
       "      <td>0</td>\n",
       "      <td>0.16</td>\n",
       "      <td>45</td>\n",
       "      <td>0</td>\n",
       "      <td>1.19</td>\n",
       "      <td>6650.0</td>\n",
       "      <td>20</td>\n",
       "      <td>0</td>\n",
       "      <td>6</td>\n",
       "      <td>0</td>\n",
       "      <td>2.0</td>\n",
       "    </tr>\n",
       "    <tr>\n",
       "      <th>15458</th>\n",
       "      <td>0</td>\n",
       "      <td>0.04</td>\n",
       "      <td>45</td>\n",
       "      <td>0</td>\n",
       "      <td>1.01</td>\n",
       "      <td>5000.0</td>\n",
       "      <td>17</td>\n",
       "      <td>0</td>\n",
       "      <td>6</td>\n",
       "      <td>0</td>\n",
       "      <td>3.0</td>\n",
       "    </tr>\n",
       "    <tr>\n",
       "      <th>40153</th>\n",
       "      <td>0</td>\n",
       "      <td>0.15</td>\n",
       "      <td>45</td>\n",
       "      <td>0</td>\n",
       "      <td>0.59</td>\n",
       "      <td>32366.0</td>\n",
       "      <td>12</td>\n",
       "      <td>0</td>\n",
       "      <td>6</td>\n",
       "      <td>0</td>\n",
       "      <td>3.0</td>\n",
       "    </tr>\n",
       "    <tr>\n",
       "      <th>57864</th>\n",
       "      <td>0</td>\n",
       "      <td>0.22</td>\n",
       "      <td>45</td>\n",
       "      <td>0</td>\n",
       "      <td>0.50</td>\n",
       "      <td>13800.0</td>\n",
       "      <td>14</td>\n",
       "      <td>0</td>\n",
       "      <td>6</td>\n",
       "      <td>0</td>\n",
       "      <td>0.0</td>\n",
       "    </tr>\n",
       "  </tbody>\n",
       "</table>\n",
       "</div>"
      ],
      "text/plain": [
       "       SeriousDlqin2yrs  RevolvingUtilizationOfUnsecuredLines  age  \\\n",
       "1                     1                                  0.77   45   \n",
       "6185                  0                                  0.16   45   \n",
       "15458                 0                                  0.04   45   \n",
       "40153                 0                                  0.15   45   \n",
       "57864                 0                                  0.22   45   \n",
       "\n",
       "       NumberOfTime30-59DaysPastDueNotWorse  DebtRatio  MonthlyIncome  \\\n",
       "1                                         2       0.80         9120.0   \n",
       "6185                                      0       1.19         6650.0   \n",
       "15458                                     0       1.01         5000.0   \n",
       "40153                                     0       0.59        32366.0   \n",
       "57864                                     0       0.50        13800.0   \n",
       "\n",
       "       NumberOfOpenCreditLinesAndLoans  NumberOfTimes90DaysLate  \\\n",
       "1                                   13                        0   \n",
       "6185                                20                        0   \n",
       "15458                               17                        0   \n",
       "40153                               12                        0   \n",
       "57864                               14                        0   \n",
       "\n",
       "       NumberRealEstateLoansOrLines  NumberOfTime60-89DaysPastDueNotWorse  \\\n",
       "1                                 6                                     0   \n",
       "6185                              6                                     0   \n",
       "15458                             6                                     0   \n",
       "40153                             6                                     0   \n",
       "57864                             6                                     0   \n",
       "\n",
       "       NumberOfDependents  \n",
       "1                     2.0  \n",
       "6185                  2.0  \n",
       "15458                 3.0  \n",
       "40153                 3.0  \n",
       "57864                 0.0  "
      ]
     },
     "execution_count": 36,
     "metadata": {},
     "output_type": "execute_result"
    }
   ],
   "source": [
    "# Let's round columns to two decimal places\n",
    "\n",
    "train_new['RevolvingUtilizationOfUnsecuredLines']=round(train_new['RevolvingUtilizationOfUnsecuredLines'],2)\n",
    "train_new['DebtRatio']=round(train_new['DebtRatio'],2)\n",
    "train_new.head()\n"
   ]
  },
  {
   "cell_type": "markdown",
   "id": "c991e41b",
   "metadata": {},
   "source": [
    "This concludes the data cleaning part of this project. "
   ]
  },
  {
   "cell_type": "code",
   "execution_count": 37,
   "id": "9af4031e",
   "metadata": {},
   "outputs": [],
   "source": [
    "train_new.to_csv('data_cleaned.csv')"
   ]
  },
  {
   "cell_type": "code",
   "execution_count": null,
   "id": "85086401",
   "metadata": {},
   "outputs": [],
   "source": []
  }
 ],
 "metadata": {
  "kernelspec": {
   "display_name": "Python 3 (ipykernel)",
   "language": "python",
   "name": "python3"
  },
  "language_info": {
   "codemirror_mode": {
    "name": "ipython",
    "version": 3
   },
   "file_extension": ".py",
   "mimetype": "text/x-python",
   "name": "python",
   "nbconvert_exporter": "python",
   "pygments_lexer": "ipython3",
   "version": "3.9.7"
  }
 },
 "nbformat": 4,
 "nbformat_minor": 5
}
